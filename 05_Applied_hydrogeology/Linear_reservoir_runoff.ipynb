{
 "cells": [
  {
   "cell_type": "markdown",
   "metadata": {},
   "source": [
    "# Linear reservoir \n",
    "\n",
    "## Inhalte\n",
    "1. Model for a linear reservoir\n",
    "2. Runoff of the linear reservoir\n",
    "\n",
    "## Model for a linear reservoir"
   ]
  },
  {
   "cell_type": "code",
   "execution_count": 211,
   "metadata": {},
   "outputs": [],
   "source": [
    "import numpy as np\n",
    "import matplotlib.pyplot as plt\n",
    "from ipywidgets import *\n",
    "from IPython.display import display\n"
   ]
  },
  {
   "cell_type": "code",
   "execution_count": 212,
   "metadata": {},
   "outputs": [],
   "source": [
    "# Interactive user input for the Parameters\n",
    "\n",
    "## Storage coefficient\n",
    "k = widgets.FloatSlider(\n",
    "    value=0.1, min=0, max=1, step=0.1, description='storage coefficient (k)')\n",
    "\n",
    "## Number of Timesteps\n",
    "#timesteps = widgets.BoundedIntText(\n",
    " #   value=30, min=0, max=100, step=1, description='Number of Timesteps')\n",
    "\n",
    "## Start and end of the inflow\n",
    "influx_t = widgets.IntRangeSlider(\n",
    "    value=[0,10], min=0, max=100, step=1, descrption='Time of inflow')\n",
    "\n",
    "## Inflow volume\n",
    "influx = widgets.FloatSlider(\n",
    "    value=10, min=0, max=100, step=0.1, description='inflow volume')\n",
    "\n",
    "## Initial stored Volume \n",
    "initial_v = widgets.FloatSlider(\n",
    "    value=10, min=0, max=100, step=0.1, description='stored volume at t=0')\n"
   ]
  },
  {
   "cell_type": "code",
   "execution_count": 213,
   "metadata": {},
   "outputs": [],
   "source": [
    "def generate_data(k= k, influx_vol=influx):\n",
    "    '''\n",
    "    input:\n",
    "        k...Storage coefficient [1/t], type = int\n",
    "        influx_vol...Inflow volume [L^3], type = int \n",
    "    --------------------------------------------------\n",
    "    output:\n",
    "        i...Timesteps, type = array\n",
    "        O...Outflow [L/t], type = array\n",
    "        V...Currently stored volume [L], type = array\n",
    "        I...Inflow [L/t], type = array\n",
    "    '''\n",
    "\n",
    "    datalenght=100\n",
    "    influx_time=influx_t.value\n",
    "    initial_vol=initial_v.value\n",
    "\n",
    "    i = np.arange(datalenght)\n",
    "    In = np.zeros_like(i, dtype=float)\n",
    "    influx_start=influx_time[0]\n",
    "    influx_end=influx_time[1]\n",
    "    In[influx_start:influx_end] = influx_vol\n",
    "    V = np.zeros_like(i, dtype=float)\n",
    "    V[0] = initial_vol\n",
    "    Out = np.zeros_like(i, dtype=float)\n",
    "    \n",
    "    for n in range(1, len(i)):\n",
    "        Out[n-1] = V[n-1] * k\n",
    "        V[n] = V[n-1] - Out[n-1] + In[n]\n",
    "    \n",
    "    return i, Out, V, In \n"
   ]
  },
  {
   "cell_type": "code",
   "execution_count": 214,
   "metadata": {},
   "outputs": [],
   "source": [
    "def plotting(k, influx=influx, initial_v=10, influx_t=[0,10]):\n",
    "    ''' \n",
    "    input:\n",
    "        k...Storage coefficient [1/t], type = int\n",
    "        influx_vol...Inflow [L], type = int\n",
    "    output:\n",
    "        Plot\n",
    "    '''\n",
    "    \n",
    "    i, Out, V, In = generate_data(k, influx)\n",
    "\n",
    "    fig, ax1 = plt.subplots(figsize=(12,5)) \n",
    "    ax1.plot(i, V, color = 'steelblue', label = 'Storage volume [L]')\n",
    "    ax1.set_xlabel('timesteps [t]')\n",
    "    ax1.set_ylabel('Storage volume [L]')\n",
    "    ax1.set_ylim(0,max(V)+10)\n",
    "    ax1.grid('True')\n",
    "    ax1.margins(x=0, y=0) \n",
    "    ax1.spines['top'].set_visible(False) \n",
    "\n",
    "    ax2 = ax1.twinx()\n",
    "    ax2.plot(i, In, color='skyblue', label = 'Inflow')\n",
    "    ax2.plot(i, Out, color = 'navy', label = 'Outflow')\n",
    "    ax2.set_ylabel('Flow [L^3/t]')\n",
    "    ax2.set_ylim(0,max(In)+10)\n",
    "    ax2.spines['top'].set_visible(False)\n",
    "\n",
    "    fig.legend(loc=\"upper right\", bbox_to_anchor=(1,1), bbox_transform=ax1.transAxes)\n",
    "    plt.title('Linear Reservoir', loc='left', fontsize=20, color='navy')\n"
   ]
  },
  {
   "cell_type": "code",
   "execution_count": 215,
   "metadata": {},
   "outputs": [
    {
     "data": {
      "application/vnd.jupyter.widget-view+json": {
       "model_id": "61c842ea38274589aeb858286b832f36",
       "version_major": 2,
       "version_minor": 0
      },
      "text/plain": [
       "IntRangeSlider(value=(0, 10))"
      ]
     },
     "metadata": {},
     "output_type": "display_data"
    },
    {
     "data": {
      "application/vnd.jupyter.widget-view+json": {
       "model_id": "80afd457a10c43668859e8eb58cdcd4d",
       "version_major": 2,
       "version_minor": 0
      },
      "text/plain": [
       "FloatSlider(value=10.0, description='inflow volume')"
      ]
     },
     "metadata": {},
     "output_type": "display_data"
    },
    {
     "data": {
      "application/vnd.jupyter.widget-view+json": {
       "model_id": "8ddae6bee56f45b8b5ac066f4d397b0f",
       "version_major": 2,
       "version_minor": 0
      },
      "text/plain": [
       "FloatSlider(value=10.0, description='stored volume at t=0')"
      ]
     },
     "metadata": {},
     "output_type": "display_data"
    },
    {
     "data": {
      "application/vnd.jupyter.widget-view+json": {
       "model_id": "b70c7e06649649c687533aaa31e3027d",
       "version_major": 2,
       "version_minor": 0
      },
      "text/plain": [
       "FloatSlider(value=0.1, description='storage coefficient (k)', max=1.0)"
      ]
     },
     "metadata": {},
     "output_type": "display_data"
    },
    {
     "data": {
      "application/vnd.jupyter.widget-view+json": {
       "model_id": "986a006303984be59d0635ddc225fd91",
       "version_major": 2,
       "version_minor": 0
      },
      "text/plain": [
       "Output()"
      ]
     },
     "metadata": {},
     "output_type": "display_data"
    }
   ],
   "source": [
    "out = widgets.interactive_output(plotting, {'k':k, 'influx':influx, 'initial_v':initial_v, 'influx_t':influx_t}) \n",
    "display(influx_t, influx, initial_v, k, out)        "
   ]
  },
  {
   "cell_type": "markdown",
   "metadata": {},
   "source": [
    "## Runoff of the linear reservoir"
   ]
  },
  {
   "cell_type": "code",
   "execution_count": 216,
   "metadata": {},
   "outputs": [],
   "source": [
    "\n",
    "def efflux(k):\n",
    "    \n",
    "    '''\n",
    "    input:\n",
    "        k...Storage coefficient [1/t], type = int \n",
    "    --------------------------------------------------\n",
    "    output:\n",
    "        i...Timesteps, type = array\n",
    "        t...Timesteps at leght of O_a, type = array\n",
    "        A...Outlow [L³/t], type = array\n",
    "        O_a...Analytical solutin for the Outflow [L³/t], type = array\n",
    "\n",
    "    '''\n",
    "\n",
    "    t = (np.linspace(0, timesteps.value, 10000))\n",
    "\n",
    "    i, Out, V, In = np.array(generate_data(k, influx_vol = 0))\n",
    "\n",
    "    Out0 = float(Out[0])\n",
    "    Out_a = Out0 * np.exp(-k*t)\n",
    "    \n",
    "    return Out_a, Out, i, t\n"
   ]
  },
  {
   "cell_type": "code",
   "execution_count": 217,
   "metadata": {},
   "outputs": [],
   "source": [
    "def plot_efflux(k, ax_scale = 'linear'):\n",
    "\n",
    "        Out_a, Out, i, t = efflux(k)\n",
    "\n",
    "        fig, ax = plt.subplots(figsize=(6, 6))\n",
    "        ax.plot(i, Out, 'r+', label='iterativ solution')\n",
    "        ax.plot(t, Out_a, label='analytic solution')\n",
    "        ax.set_title('Runoff for the linear reservoir')\n",
    "        ax.set_ylabel('Outflow []')\n",
    "        ax.set_xlabel('time [t]')\n",
    "        ax.legend()\n",
    "        ax.grid(which='major')\n",
    "        ax.grid(which='minor')\n",
    "        plt.yscale(ax_scale)\n",
    "        plt.show()\n"
   ]
  },
  {
   "cell_type": "code",
   "execution_count": 218,
   "metadata": {},
   "outputs": [
    {
     "data": {
      "application/vnd.jupyter.widget-view+json": {
       "model_id": "b70c7e06649649c687533aaa31e3027d",
       "version_major": 2,
       "version_minor": 0
      },
      "text/plain": [
       "FloatSlider(value=0.1, description='storage coefficient (k)', max=1.0)"
      ]
     },
     "metadata": {},
     "output_type": "display_data"
    },
    {
     "data": {
      "application/vnd.jupyter.widget-view+json": {
       "model_id": "b27b9985a0a44452827ae59346025e59",
       "version_major": 2,
       "version_minor": 0
      },
      "text/plain": [
       "RadioButtons(description='Scaling of the y-axis', options=('linear', 'log'), value='linear')"
      ]
     },
     "metadata": {},
     "output_type": "display_data"
    },
    {
     "data": {
      "application/vnd.jupyter.widget-view+json": {
       "model_id": "056a9727363c4a40a7512dea3e31443b",
       "version_major": 2,
       "version_minor": 0
      },
      "text/plain": [
       "Output()"
      ]
     },
     "metadata": {},
     "output_type": "display_data"
    }
   ],
   "source": [
    "ax_scale = widgets.RadioButtons(options=['linear', 'log'], value='linear', description='Scaling of the y-axis')\n",
    "\n",
    "out=widgets.interactive_output(\n",
    "        plot_efflux,{'k':k ,'ax_scale':ax_scale})\n",
    "\n",
    "display(k,ax_scale,out)"
   ]
  }
 ],
 "metadata": {
  "kernelspec": {
   "display_name": "base",
   "language": "python",
   "name": "python3"
  },
  "language_info": {
   "codemirror_mode": {
    "name": "ipython",
    "version": 3
   },
   "file_extension": ".py",
   "mimetype": "text/x-python",
   "name": "python",
   "nbconvert_exporter": "python",
   "pygments_lexer": "ipython3",
   "version": "3.11.7"
  }
 },
 "nbformat": 4,
 "nbformat_minor": 2
}
