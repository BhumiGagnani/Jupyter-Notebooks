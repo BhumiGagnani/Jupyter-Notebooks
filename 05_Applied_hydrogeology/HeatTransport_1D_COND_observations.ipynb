{
 "cells": [
  {
   "cell_type": "markdown",
   "metadata": {},
   "source": [
    "# Prediction of groundwater temperature (1D heat conduction)\n",
    "\n",
    "## Equation\n",
    "\n",
    "1D Heat conduction can be described with the following equation.\n",
    "\n",
    "$T(x,t)=T_0 erfc \\left(\\frac{x}{\\sqrt{4D_Ht}}\\right)$\n",
    "\n",
    "with heat diffusivity\n",
    "\n",
    "$D_H=\\frac{n_e \\lambda_w + (1-n_e) \\lambda_s}{n_e c_w \\rho_w}$\n",
    "\n",
    "## Computation\n",
    "This equation is used to compute the temperature in the underground. From the time t = 0 the temperature at the source (x = 0) is increased.\n",
    "* The first plot shows the temperature along the distance after 182 days.\n",
    "* The second plot shows the temperature over time for three observations (breakthrough curves). The location of the observations is shown in plot 1.\n"
   ]
  },
  {
   "cell_type": "code",
   "execution_count": 4,
   "metadata": {},
   "outputs": [
    {
     "data": {
      "application/vnd.jupyter.widget-view+json": {
       "model_id": "a06b8480897242ceaec081fff9b4dd12",
       "version_major": 2,
       "version_minor": 0
      },
      "text/plain": [
       "interactive(children=(BoundedFloatText(value=8.0, description='T_ini:', step=1.0), BoundedFloatText(value=13.0…"
      ]
     },
     "metadata": {},
     "output_type": "display_data"
    },
    {
     "data": {
      "text/plain": [
       "<function __main__.temp(T_ini, T_BC, length, frac1, frac2, n_e, lambda_w, lambda_s, c_w, rho_w)>"
      ]
     },
     "execution_count": 4,
     "metadata": {},
     "output_type": "execute_result"
    }
   ],
   "source": [
    "# Initialize librarys\n",
    "from scipy.special import erfc, erf\n",
    "import matplotlib\n",
    "import matplotlib.pyplot as plt\n",
    "import numpy as np\n",
    "import math\n",
    "from ipywidgets import *\n",
    "\n",
    "# Definition der Funktion\n",
    "def temp(T_ini, T_BC, length, frac1, frac2, n_e, lambda_w, lambda_s, c_w, rho_w):\n",
    "    tmax = 182\n",
    "    xmax = length\n",
    "\n",
    "    # Initial temperature\n",
    "    T0 = T_BC - T_ini\n",
    "\n",
    "    # Define parameters\n",
    "    t = np.arange(1, tmax,tmax/1000)\n",
    "    x = np.arange(0, xmax,xmax/1000)\n",
    "    D_H = (n_e*lambda_w+(1-n_e)*lambda_s)/(n_e*c_w*rho_w)\n",
    "\n",
    "    x1 = length * frac1\n",
    "    x2 = length * frac2\n",
    "    x3 = length\n",
    "\n",
    "    # Compute temperature at tmax for three observation points\n",
    "    Tx1 = T_ini+T0 * erfc(x1/np.sqrt(4*D_H*(tmax*86400)))\n",
    "    Tx2 = T_ini+T0 * erfc(x2/np.sqrt(4*D_H*(tmax*86400)))\n",
    "    Tx3 = T_ini+T0 * erfc(x3/np.sqrt(4*D_H*(tmax*86400)))\n",
    "    \n",
    "    # Compute temperature vs time for three observation points\n",
    "    T1 = T_ini+T0 * erfc(x1/np.sqrt(4*D_H*(t*86400)))\n",
    "    T2 = T_ini+T0 * erfc(x2/np.sqrt(4*D_H*(t*86400)))\n",
    "    T3 = T_ini+T0 * erfc(x3/np.sqrt(4*D_H*(t*86400)))\n",
    "\n",
    "    Tx = T_ini+T0 * erfc(x/np.sqrt(4*D_H*(tmax*86400)))\n",
    "\n",
    "    # Plot figure\n",
    "    fig = plt.figure(figsize=(12,7))\n",
    "    ax = fig.add_subplot(1, 2, 1)\n",
    "    ax.plot(x,Tx, color='orange', label='temp')\n",
    "    ax.plot(x1,Tx1, marker='o', color='red',linestyle ='None', label='observation1')\n",
    "    ax.plot(x2,Tx2, marker='o', color='lime',linestyle ='None', label='observation2')\n",
    "    ax.plot(x3,Tx3, marker='o', color='blue',linestyle ='None', label='length')\n",
    "    plt.axis([0,xmax,T_ini-1,T_BC+1])\n",
    "    ax.set(xlabel='distance from source', ylabel='temperature after 182 days',title='1D Conductive heat transport (T vs x)')\n",
    "    ax.grid()\n",
    "    plt.legend()\n",
    "\n",
    "    ax = fig.add_subplot(1, 2, 2)\n",
    "    ax.plot(t,T1, color='red', label='temp (observation1)')\n",
    "    ax.plot(t,T2, color='lime', label='temp (observation2)')\n",
    "    ax.plot(t,T3, color='blue', label='temp (at length)')\n",
    "    ax.set(xlabel='time', ylabel='temperature',title='1D Conductive heat transport (T vs t)')\n",
    "    plt.axis([0,tmax,T_ini-1,T_BC+1])\n",
    "    ax.grid()\n",
    "    plt.legend()\n",
    "\n",
    "    plt.show()\n",
    "    print(\"D_H: \",D_H)\n",
    "\n",
    "\n",
    "# Interactive plot\n",
    "\n",
    "\n",
    "interact(temp,\n",
    "         T_ini=widgets.BoundedFloatText(value=8,  min=0, max=100, step=1, description='T_ini:', disabled=False),\n",
    "         T_BC =widgets.BoundedFloatText(value=13, min=0, max=100, step=1, description='T_BC:',  disabled=False),\n",
    "         length = widgets.IntSlider(value=10, min=1, max=100, step=1, description='length:',  disabled=False),\n",
    "         frac1 = widgets.FloatSlider(value=0.3, min = 0.01, max=1.0, step = 0.01, describtion='obs_frac1', disabled=False),\n",
    "         frac2 = widgets.FloatSlider(value=0.7, min = 0.01, max=1.0, step = 0.01, describtion='obs_frac2', disabled=False),\n",
    "         n_e      = widgets.FloatSlider(value=0.25, min = 0.01, max=0.6, step = 0.01, describtion='n_e', disabled=False),\n",
    "         lambda_w = 0.598,\n",
    "         lambda_s = 0.35,\n",
    "         c_w      = 4186,\n",
    "         rho_w    = 1000,\n",
    "         x1 = 1,\n",
    "         x2 = 2)"
   ]
  },
  {
   "cell_type": "code",
   "execution_count": null,
   "metadata": {},
   "outputs": [],
   "source": []
  }
 ],
 "metadata": {
  "celltoolbar": "Slideshow",
  "kernelspec": {
   "display_name": "Python 3 (ipykernel)",
   "language": "python",
   "name": "python3"
  },
  "language_info": {
   "codemirror_mode": {
    "name": "ipython",
    "version": 3
   },
   "file_extension": ".py",
   "mimetype": "text/x-python",
   "name": "python",
   "nbconvert_exporter": "python",
   "pygments_lexer": "ipython3",
   "version": "3.11.7"
  }
 },
 "nbformat": 4,
 "nbformat_minor": 4
}
