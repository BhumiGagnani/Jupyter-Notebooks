{
 "cells": [
  {
   "cell_type": "markdown",
   "metadata": {},
   "source": [
    "# Water abstraction - Drawdown prediction with the Theis solution\n",
    "This notebook demonstrate the application of the Theis solution to predict the drawdown from pumping in a confined aquifer.\n",
    "\n",
    "## Introduction\n",
    "\n",
    "### General situation\n",
    "We consider a confined aquifer with constant transmissivity. If a well is pumping water out of the aquifer, radial flow towards the well is induced. The following figure illustrates this situation.\n",
    "\n",
    "<img src=\"FIGS\\Flow_well_confined.png\" width=\"400\">\n",
    "\n",
    "*Fig: Radial flow in a confined aquifer (Fetter, 1994)*\n",
    "\n",
    "The calculate the hydraulic situation, the following simplified flow equation can be used. This equation accounts for 1D radial transient flow towards a fully penetrating well within a confined aquifer without further sinks and sources:\n",
    "\n",
    "$$ \\frac{\\partial^2 h}{\\partial r^2}+\\frac{1}{r}\\frac{\\partial h}{\\partial r}=\\frac{S}{T}\\frac{\\partial h}{\\partial t} $$\n",
    "\n",
    "### Solution by Theis\n",
    "Charles V. Theis presented a solution for this by deriving\n",
    "\n",
    "$$ s(r,t)=\\frac{Q}{4\\pi T}W(u) $$\n",
    "\n",
    "with the well function\n",
    "\n",
    "$$ W(u) = \\int_{u }^{+\\infty} \\frac{e^{-\\tilde u}}{\\tilde u}d\\tilde u $$\n",
    "\n",
    "and the dimensionless variable \n",
    "\n",
    "$$ u = \\frac{Sr^2}{4Tt} $$\n",
    "\n",
    "This equations are not easy to solve. Historically, values for the well function were provided by tables or as so called type-curve. The type-curve matching with experimental data for pumping test analysis can be considered as one of the basic hydrogeological methods.\n",
    "\n",
    "However, modern computer provide an easier and more convinient way to solve the 1D radial flow equation based on the Theis approach. Subsequently, the Theis equation is solved with Python routines."
   ]
  },
  {
   "cell_type": "code",
   "execution_count": 7,
   "metadata": {},
   "outputs": [
    {
     "data": {
      "application/vnd.jupyter.widget-view+json": {
       "model_id": "326d52977d2a4df7b3344779449ad899",
       "version_major": 2,
       "version_minor": 0
      },
      "text/plain": [
       "interactive(children=(FloatSlider(value=100.0, description='r', max=200.0, min=1.0, step=1.0), FloatLogSlider(…"
      ]
     },
     "metadata": {},
     "output_type": "display_data"
    },
    {
     "data": {
      "text/plain": [
       "<function __main__.plot_s(r, T, S, Q, t_search, max_s, max_t)>"
      ]
     },
     "execution_count": 7,
     "metadata": {},
     "output_type": "execute_result"
    }
   ],
   "source": [
    "# (First, the necessary Python functions are initiated.)\n",
    "\n",
    "%matplotlib inline\n",
    "import numpy as np\n",
    "import matplotlib.pyplot as plt\n",
    "import scipy.special\n",
    "from ipywidgets import *\n",
    "\n",
    "# (Here the necessary functions like the well function $W(u)$ are defined. Later, those functions are used in the computation)\n",
    "# Define a function, class, and object for Theis Well analysis\n",
    "\n",
    "def well_function(u):\n",
    "    return scipy.special.exp1(u)\n",
    "\n",
    "def theis_u(T,S,r,t):\n",
    "    u = r ** 2 * S / 4. / T / t\n",
    "    return u\n",
    "\n",
    "def theis_s(Q, T, u):\n",
    "    s = Q / 4. / np.pi / T * well_function(u)\n",
    "    return s\n",
    "\n",
    "# (Here, the method computes the data for the well function. Those data can be used to generate a type curve.)\n",
    "u_max = 1\n",
    "r_max = 10000\n",
    "u  = [u_max for x in range(r_max)]\n",
    "u_inv  = [r_max/u_max for x in range(r_max)]\n",
    "w_u  = [well_function(u_max/r_max) for x in range(r_max)]\n",
    "\n",
    "def compute_s(T, S, t, Q, r):\n",
    "    u = theis_u(T, S, r, t)\n",
    "    s = theis_s(Q, T, u)\n",
    "    return s\n",
    "\n",
    "def plot_s (r, T, S, Q, t_search, max_s, max_t):\n",
    "    # Range of delta_h / delta_l values (hydraulic gradient)\n",
    "    t = np.linspace(1, max_t, 200)\n",
    "    \n",
    "    # Compute Q for each hydraulic gradient\n",
    "    s  = compute_s(T, S, t, Q, r)\n",
    "\n",
    "    # Compute s for a specific point\n",
    "    x_point = t_search\n",
    "    y_point = compute_s(T, S, t_search, Q, r)\n",
    "    \n",
    "    # Plotting\n",
    "    plt.figure(figsize=(10, 6))\n",
    "    \n",
    "    plt.plot(t, s, linewidth=3., color='r', label=r'Drawdown prediction')\n",
    "    plt.xlim(1, max_t)\n",
    "    plt.ylim(max_s, 0)\n",
    "    plt.plot(x_point,y_point, marker='o', color='b',linestyle ='None', label='drawdown output') \n",
    "    plt.xlabel(r'Time in sec', fontsize=14)\n",
    "    plt.ylabel(r'Drawdown in m', fontsize=14)\n",
    "    plt.title('Drawdown prediction with Theis', fontsize=16)\n",
    "    plt.legend()\n",
    "    plt.grid(True)\n",
    "    plt.show()\n",
    "    \n",
    "    print(\"Time since pumping start (in s): \", x_point)\n",
    "    print('Drawdown at this distance (in m):  %5.2f' %y_point)\n",
    "    print('Distance from the well (in ): %8.2f' %r)\n",
    "    \n",
    "interact(plot_s,\n",
    "         r = widgets.FloatSlider(value=100,min=1, max=200, step=1,readout=True),\n",
    "         T = widgets.FloatLogSlider(value=0.03,base=10,min=-6, max=4, step=0.1,readout=True,readout_format='.2e'),\n",
    "         S = widgets.FloatLogSlider(value=0.003,base=10,min=-9, max=1, step=0.1,readout=True,readout_format='.2e'),\n",
    "         Q = widgets.FloatSlider(value=0.005,min=0.001, max=1, step=0.001,readout=True),\n",
    "         t_search = widgets.FloatSlider(value=60,min=60, max=864000, step=60,readout=True),\n",
    "         max_t = widgets.FloatSlider(value=86400,min=600, max=864000, step=600,readout=True),\n",
    "         max_s = widgets.FloatSlider(value=10,min=1, max=50, step=1,readout=True))"
   ]
  },
  {
   "cell_type": "code",
   "execution_count": null,
   "metadata": {},
   "outputs": [],
   "source": []
  }
 ],
 "metadata": {
  "kernelspec": {
   "display_name": "Python 3 (ipykernel)",
   "language": "python",
   "name": "python3"
  },
  "language_info": {
   "codemirror_mode": {
    "name": "ipython",
    "version": 3
   },
   "file_extension": ".py",
   "mimetype": "text/x-python",
   "name": "python",
   "nbconvert_exporter": "python",
   "pygments_lexer": "ipython3",
   "version": "3.11.7"
  },
  "toc": {
   "base_numbering": 1,
   "nav_menu": {},
   "number_sections": true,
   "sideBar": true,
   "skip_h1_title": false,
   "title_cell": "Table of Contents",
   "title_sidebar": "Contents",
   "toc_cell": false,
   "toc_position": {},
   "toc_section_display": true,
   "toc_window_display": false
  },
  "varInspector": {
   "cols": {
    "lenName": 16,
    "lenType": 16,
    "lenVar": 40
   },
   "kernels_config": {
    "python": {
     "delete_cmd_postfix": "",
     "delete_cmd_prefix": "del ",
     "library": "var_list.py",
     "varRefreshCmd": "print(var_dic_list())"
    },
    "r": {
     "delete_cmd_postfix": ") ",
     "delete_cmd_prefix": "rm(",
     "library": "var_list.r",
     "varRefreshCmd": "cat(var_dic_list()) "
    }
   },
   "position": {
    "height": "216.667px",
    "left": "2296.33px",
    "right": "20px",
    "top": "120px",
    "width": "243.667px"
   },
   "types_to_exclude": [
    "module",
    "function",
    "builtin_function_or_method",
    "instance",
    "_Feature"
   ],
   "window_display": true
  }
 },
 "nbformat": 4,
 "nbformat_minor": 4
}
