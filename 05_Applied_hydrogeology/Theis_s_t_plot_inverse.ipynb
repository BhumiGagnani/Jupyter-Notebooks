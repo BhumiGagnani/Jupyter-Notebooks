{
 "cells": [
  {
   "cell_type": "markdown",
   "metadata": {},
   "source": [
    "# Theis pumping test - Fitting Theis to measured data\n",
    "This notebook demonstrate the application of the Theis principle for pumping test evaluation in confined, transient setups. The notebook is based on an Spreadsheet from Prof. Rudolf Liedl.\n",
    "\n",
    "## Introduction\n",
    "\n",
    "### General situation\n",
    "We consider a confined aquifer with constant transmissivity. If a well is pumping water out of the aquifer, radial flow towards the well is induced. The following figure illustrates this situation.\n",
    "\n",
    "<img src=\"FIGS/Flow_well_confined.png\" width=\"400\">\n",
    "\n",
    "*Fig: Radial flow in a confined aquifer (Fetter, 1994)*\n",
    "\n",
    "The calculate the hydraulic situation, the following simplified flow equation can be used. This equation accounts for 1D radial transient flow towards a fully penetrating well within a confined aquifer without further sinks and sources:\n",
    "\n",
    "$$ \\frac{\\partial^2 h}{\\partial r^2}+\\frac{1}{r}\\frac{\\partial h}{\\partial r}=\\frac{S}{T}\\frac{\\partial h}{\\partial t} $$\n",
    "\n",
    "### Solution by Theis for confined aquifers\n",
    "Charles V. Theis presented a solution for this by deriving\n",
    "\n",
    "$$ s(r,t)=\\frac{Q}{4\\pi T}W(u) $$\n",
    "\n",
    "with the well function\n",
    "\n",
    "$$ W(u) = \\int_{u }^{+\\infty} \\frac{e^{-\\tilde u}}{\\tilde u}d\\tilde u $$\n",
    "\n",
    "and the dimensionless variable \n",
    "\n",
    "$$ u = \\frac{Sr^2}{4Tt} $$\n",
    "\n",
    "This equations are not easy to solve. Historically, values for the well function were provided by tables or as so called type-curve. The type-curve matching with experimental data for pumping test analysis can be considered as one of the basic hydrogeological methods.\n",
    "\n",
    "However, modern computer provide an easier and more convinient way to solve the 1D radial flow equation based on the Theis approach. Subsequently, the Theis equation is solved with Python routines. The results for the measured data are graphically presented.\n",
    "\n",
    "#### Curve fitting with s-t plots\n",
    "\n",
    "With this approach, time and drawdown are provided by the Theis solution with \n",
    "\n",
    "$$ s =\\frac{Q}{4\\pi T}W(u) $$\n",
    "\n",
    "and \n",
    "\n",
    "$$ t = \\frac{Sr^2}{4T} \\frac{1}{u} $$\n",
    "\n",
    "Subsequently, time and drawdown are plotted and fitted to measured time and drawdown data.\n",
    "\n",
    "### Solution by Neuman for unconfined aquifers\n",
    "\n",
    "_PLEASE ADD SOME EXPLANATION HERE_"
   ]
  },
  {
   "cell_type": "code",
   "execution_count": 1,
   "metadata": {},
   "outputs": [],
   "source": [
    "# (First, the necessary Python functions are initiated.)\n",
    "\n",
    "%matplotlib inline\n",
    "import numpy as np\n",
    "import matplotlib.pyplot as plt\n",
    "import scipy.special\n",
    "from ipywidgets import *\n",
    "#from scipy.special import expn # musste ich zufuegen-> warum ist mior nicht ganz klar da das Paket vorher ja schon geladen wird! Kann wieder raus; sollte  Über scipy.special.expn funktionieren"
   ]
  },
  {
   "cell_type": "markdown",
   "metadata": {},
   "source": [
    "**The following section stores the measured data.**\n",
    "\n",
    "This are two lists with time (in minutes) and drawdown (in meters). Make sure that those elements match each other (e.g. the first time is associated with the first drawdown value etc.)"
   ]
  },
  {
   "cell_type": "markdown",
   "metadata": {},
   "source": [
    "**Subsequently, the given data for the processing of measured data are provided.**\n",
    "\n",
    "This are the given data like\n",
    "- pumping rate $Q$,\n",
    "- aquifer thickness $b$,\n",
    "- distance of the observation (where time and drawdown were measured) to the pumping well $r$.\n",
    "\n",
    "**These data can be adjusted for individual measurements.**"
   ]
  },
  {
   "cell_type": "code",
   "execution_count": 33,
   "metadata": {},
   "outputs": [],
   "source": [
    "# m_time = [0.50,1.00,1.33,2.00,3.00,5.00,7.00,9.33,13.50,22.00,30.00] # time in minutes\n",
    "# m_ddown = [0.30,0.37,0.38,0.40,0.43,0.49,0.52,0.53,0.55,0.56,0.57]   # drawdown in meters\n",
    "\n",
    "# Data from SYMPLE exercise\n",
    "m_time = [1,1.5,2,2.5,3,4,5,6,8,10,12,14,18,24,30,40,50,60,100,120] # time in minutes\n",
    "m_time_s = [i*60 for i in m_time] # time in seconds\n",
    "m_ddown = [0.66,0.87,0.99,1.11,1.21,1.36,1.49,1.59,1.75,1.86,1.97,2.08,2.20,2.36,2.49,2.65,2.78,2.88,3.16,3.28]   # drawdown in meters\n",
    "num_times = len(m_time)\n",
    "\n",
    "# Parameters needed to solve Theis (From the SYMPLE example/excercise)\n",
    "r = 120       # m\n",
    "b = 8.5       # m\n",
    "Qs = 0.3/60   # m^3/s\n",
    "Qd = Qs*60*24 # m^3/d\n",
    "#SyS = 0.1 # habe ich hier eingefuegt! Kann raus - wird über Slider eingelesen\n",
    "\n",
    "# (Here the necessary functions like the well function $W(u)$ are defined. Later, those functions are used in the computation)\n",
    "# Define a function, class, and object for Theis Well analysis\n",
    "\n",
    "def well_function(u):\n",
    "    return scipy.special.exp1(u)\n",
    "    \n",
    "# (Here, the methode computes the data for the well function. Those data can be used to generate a type curve.)\n",
    "u_min = -5\n",
    "u_max = 4\n",
    "\n",
    "u = np.logspace(u_min,u_max)\n",
    "u_inv = 1/u\n",
    "w_u = well_function(u)\n",
    "\n",
    "t = u_inv * t_term\n",
    "s = w_u * s_term\n",
    "\n",
    "# This is the function to plot the graph with the data, it is called by interact, arguments need to be provided by sliders etc.\n",
    "def Theis_plot(T,b,Ss):\n",
    "    # Compute K and SS to provide parameters for plausability check\n",
    "    # (i.e. are the parameter in a reasonable range)\n",
    "    K = T/b     # m/s\n",
    "    S = Ss * b\n",
    "\n",
    "    t_term = r**2 * S / 4 / T\n",
    "    s_term = Qs/(4 * np.pi * T)\n",
    "\n",
    "    t = u_inv * t_term\n",
    "    s = w_u * s_term\n",
    "        \n",
    "    fig = plt.figure(figsize=(10,7))\n",
    "    ax = fig.add_subplot(1, 1, 1)\n",
    "    ax.plot(t, s, label=r'Computed drawdown')\n",
    "    ax.plot(m_time_s, m_ddown,'ro', label=r'measured drawdown')\n",
    "    plt.yscale(\"log\")\n",
    "    plt.xscale(\"log\")\n",
    "    plt.axis([1E-1,1E5,1E-4,1E+1])\n",
    "    ax.set(xlabel='t', ylabel='s',title='Theis drawdown')\n",
    "    ax.grid(which=\"both\")\n",
    "    plt.legend()\n",
    "    plt.show()\n",
    "\n",
    "    print(\"Transmissivity       T = \",\"% 10.2E\"% T, \" m^2/s\")\n",
    "    print(\"Storativity          S = \",\"% 10.2E\"% S, \"[-]\")"
   ]
  },
  {
   "cell_type": "markdown",
   "metadata": {},
   "source": [
    "**The pumping test evaluation is more or less the calibration of a model (i.e. the Theis equations) by adjusting parameters. Those parameters include**\n",
    "- **Transmissivity** of the entire aquifer $T$\n",
    "- **Storativity** of the aquifer $S$.\n",
    "\n",
    "See what happens and modify the parameters $T$ and $S$. Modify until the fit is fine.\n",
    "\n",
    "_(Hint: After selecting the slider you can use the mouse, your fingers, but also the arrow-keys of your keyboard to modify the parameter values.)_"
   ]
  },
  {
   "cell_type": "code",
   "execution_count": 34,
   "metadata": {},
   "outputs": [
    {
     "data": {
      "application/vnd.jupyter.widget-view+json": {
       "model_id": "622ea494517e4e82abe837fe302c12e4",
       "version_major": 2,
       "version_minor": 0
      },
      "text/plain": [
       "interactive(children=(FloatLogSlider(value=0.001, description='T', max=3.0, min=-6.0, readout_format='.2e'), F…"
      ]
     },
     "metadata": {},
     "output_type": "display_data"
    },
    {
     "data": {
      "text/plain": [
       "<function __main__.Theis_plot(T, b, Ss)>"
      ]
     },
     "execution_count": 34,
     "metadata": {},
     "output_type": "execute_result"
    }
   ],
   "source": [
    "interact(Theis_plot,\n",
    "         T=widgets.FloatLogSlider(value=0.001,base=10,min=-6, max=3, step=0.1,readout=True,readout_format='.2e'),\n",
    "         b = widgets.FloatSlider(value=20,min=2, max=200, step=0.1,readout=True,readout_format='.2f'),\n",
    "         Ss = widgets.FloatLogSlider(value=0.0001,base=10,min=-9, max=1, step=0.1,readout=True,readout_format='.2e'))"
   ]
  },
  {
   "cell_type": "code",
   "execution_count": null,
   "metadata": {},
   "outputs": [],
   "source": []
  },
  {
   "cell_type": "code",
   "execution_count": null,
   "metadata": {},
   "outputs": [],
   "source": []
  }
 ],
 "metadata": {
  "kernelspec": {
   "display_name": "Python 3 (ipykernel)",
   "language": "python",
   "name": "python3"
  },
  "language_info": {
   "codemirror_mode": {
    "name": "ipython",
    "version": 3
   },
   "file_extension": ".py",
   "mimetype": "text/x-python",
   "name": "python",
   "nbconvert_exporter": "python",
   "pygments_lexer": "ipython3",
   "version": "3.11.7"
  },
  "toc": {
   "base_numbering": 1,
   "nav_menu": {},
   "number_sections": true,
   "sideBar": true,
   "skip_h1_title": false,
   "title_cell": "Table of Contents",
   "title_sidebar": "Contents",
   "toc_cell": false,
   "toc_position": {},
   "toc_section_display": true,
   "toc_window_display": false
  },
  "varInspector": {
   "cols": {
    "lenName": 16,
    "lenType": 16,
    "lenVar": 40
   },
   "kernels_config": {
    "python": {
     "delete_cmd_postfix": "",
     "delete_cmd_prefix": "del ",
     "library": "var_list.py",
     "varRefreshCmd": "print(var_dic_list())"
    },
    "r": {
     "delete_cmd_postfix": ") ",
     "delete_cmd_prefix": "rm(",
     "library": "var_list.r",
     "varRefreshCmd": "cat(var_dic_list()) "
    }
   },
   "position": {
    "height": "216.667px",
    "left": "2296.33px",
    "right": "20px",
    "top": "120px",
    "width": "243.667px"
   },
   "types_to_exclude": [
    "module",
    "function",
    "builtin_function_or_method",
    "instance",
    "_Feature"
   ],
   "window_display": true
  }
 },
 "nbformat": 4,
 "nbformat_minor": 4
}
