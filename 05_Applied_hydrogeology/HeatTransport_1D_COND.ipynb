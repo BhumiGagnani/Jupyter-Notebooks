{
 "cells": [
  {
   "cell_type": "markdown",
   "metadata": {},
   "source": [
    "# Prediction of groundwater temperature (1D heat conduction)\n",
    "\n",
    "## Equation\n",
    "\n",
    "1D Heat conduction can be described with the following equation.\n",
    "\n",
    "$T(x,t)=T_0 erfc \\left(\\frac{x}{\\sqrt{4D_Ht}}\\right)$\n",
    "\n",
    "with heat diffusivity\n",
    "\n",
    "$D_H=\\frac{n_e \\lambda_w + (1-n_e) \\lambda_s}{n_e c_w \\rho_w}$\n",
    "\n",
    "## Computation\n",
    "This equation is used to compute the temperature in the underground. From the time t = 0 the temperature at the source (x = 0) is increased. The plot shows the temperature over time at one observation point (breakthrough curve). The observation location and maximum time can be defined, together with other parameters for heat transfer."
   ]
  },
  {
   "cell_type": "code",
   "execution_count": 9,
   "metadata": {},
   "outputs": [
    {
     "data": {
      "application/vnd.jupyter.widget-view+json": {
       "model_id": "c9a13331ffe449d2b26951cfde865e7e",
       "version_major": 2,
       "version_minor": 0
      },
      "text/plain": [
       "interactive(children=(BoundedFloatText(value=8.0, description='T_ini:', step=1.0), BoundedFloatText(value=13.0…"
      ]
     },
     "metadata": {},
     "output_type": "display_data"
    },
    {
     "data": {
      "text/plain": [
       "<function __main__.temp(T_ini, T_BC, tmax, x, n_e, lambda_w, lambda_s, c_w, rho_w)>"
      ]
     },
     "execution_count": 9,
     "metadata": {},
     "output_type": "execute_result"
    }
   ],
   "source": [
    "# Initialize librarys\n",
    "from scipy.special import erfc, erf\n",
    "import matplotlib\n",
    "import matplotlib.pyplot as plt\n",
    "import numpy as np\n",
    "import math\n",
    "from ipywidgets import *\n",
    "\n",
    "\n",
    "# Definition of the function\n",
    "def temp(T_ini, T_BC, tmax, x, n_e, lambda_w, lambda_s, c_w, rho_w):\n",
    "    T0 = T_BC - T_ini\n",
    "    t = np.arange(1, tmax,tmax/1000)\n",
    "    \n",
    "    D_H = (n_e*lambda_w+(1-n_e)*lambda_s)/(n_e*c_w*rho_w)\n",
    "    \n",
    "    T = T_ini+T0 * erfc(x/np.sqrt(4*D_H*(t*86400)))\n",
    "    \n",
    "    fig, ax = plt.subplots()\n",
    "    ax.plot(t,T)\n",
    "    ax.set(xlabel='time', ylabel='temperature',title='1D Conductive Heat transfer')\n",
    "    plt.axis([0,tmax,T_ini-1,T_BC+1])\n",
    "    ax.grid()\n",
    "    plt.show()\n",
    "    print(\"D_H: \",D_H)\n",
    "\n",
    "\n",
    "# Interactive plot\n",
    "\n",
    "interact(temp,\n",
    "         T_ini=widgets.BoundedFloatText(value=8,  min=0, max=100, step=1, description='T_ini:', disabled=False),\n",
    "         T_BC =widgets.BoundedFloatText(value=13, min=0, max=100, step=1, description='T_BC:',  disabled=False),\n",
    "         tmax     = widgets.IntSlider(value=182, min=1, max=365, step=1, description='time:',  disabled=False),\n",
    "         n_e      = widgets.FloatSlider(value=0.25, min = 0.01, max=0.6, step = 0.01, describtion='n_e', disabled=False),\n",
    "         lambda_w = 0.598,\n",
    "         lambda_s = 0.35,\n",
    "         c_w      = 4186,\n",
    "         rho_w    = 1000,\n",
    "         x = widgets.IntSlider(value=10, min=1, max=100, step=1, description='length:',  disabled=False))"
   ]
  },
  {
   "cell_type": "code",
   "execution_count": null,
   "metadata": {},
   "outputs": [],
   "source": []
  }
 ],
 "metadata": {
  "celltoolbar": "Slideshow",
  "kernelspec": {
   "display_name": "Python 3 (ipykernel)",
   "language": "python",
   "name": "python3"
  },
  "language_info": {
   "codemirror_mode": {
    "name": "ipython",
    "version": 3
   },
   "file_extension": ".py",
   "mimetype": "text/x-python",
   "name": "python",
   "nbconvert_exporter": "python",
   "pygments_lexer": "ipython3",
   "version": "3.11.7"
  }
 },
 "nbformat": 4,
 "nbformat_minor": 4
}
