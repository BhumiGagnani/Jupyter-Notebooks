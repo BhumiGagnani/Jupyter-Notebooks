{
 "cells": [
  {
   "cell_type": "code",
   "execution_count": 13,
   "metadata": {},
   "outputs": [
    {
     "data": {
      "application/vnd.jupyter.widget-view+json": {
       "model_id": "605ebbd3fc824ffba3ed6b1377bfe2c0",
       "version_major": 2,
       "version_minor": 0
      },
      "text/plain": [
       "interactive(children=(FloatSlider(value=0.0, description='x_print', max=3.0, min=-3.0, step=0.01), Output()), …"
      ]
     },
     "metadata": {},
     "output_type": "display_data"
    },
    {
     "data": {
      "text/plain": [
       "<function __main__.erferfcplot(x_print)>"
      ]
     },
     "execution_count": 13,
     "metadata": {},
     "output_type": "execute_result"
    }
   ],
   "source": [
    "import matplotlib\n",
    "import matplotlib.pyplot as plt\n",
    "from scipy.special import erfc, erf\n",
    "import numpy as np\n",
    "from ipywidgets import *\n",
    "\n",
    "# Define function\n",
    "\n",
    "def erferfcplot (x_print):\n",
    "    x = np.arange(-3, 3, 0.01)\n",
    "    s1 = erf(x)\n",
    "    s2 = erfc(x)\n",
    "\n",
    "    s1_print = erf(x_print)\n",
    "    s2_print = erfc(x_print)\n",
    "\n",
    "    # Plot figure\n",
    "    fig = plt.figure(figsize=(12,7))\n",
    "    ax = fig.add_subplot()\n",
    "    ax.plot(x,s1, color='magenta', label='erf(x)')\n",
    "    ax.plot(x,s2, color='darkblue', label='erfc(x)')\n",
    "    ax.plot(x_print,s1_print, marker='o', color='magenta',linestyle ='None', label='erf(x_print)')\n",
    "    ax.plot(x_print,s2_print, marker='o', color='darkblue',linestyle ='None', label='erfc(x_print)')\n",
    "    plt.axis([-3,3,-1.5,2.5])\n",
    "    ax.set(xlabel='x', ylabel='erf(x) / erfc(x)', title='Gauss error functions erf(x) and erfc(x)')\n",
    "    ax.grid()\n",
    "    plt.legend()\n",
    "    \n",
    "    plt.show()\n",
    "    \n",
    "    print('Computed values for x =:',\"% 3.2F\"%  x_print)\n",
    "    print('erf(x)  =',\"% 5.4F\"% s1_print)\n",
    "    print('erfc(x) =',\"% 5.4F\"% s2_print)\n",
    "\n",
    "# Interactive plot\n",
    "interact(erferfcplot,\n",
    "         x_print= widgets.FloatSlider(value=0, min=-3, max=3, step=0.01, description='x_print',  disabled=False))"
   ]
  },
  {
   "cell_type": "code",
   "execution_count": null,
   "metadata": {
    "collapsed": true,
    "jupyter": {
     "outputs_hidden": true
    }
   },
   "outputs": [],
   "source": []
  }
 ],
 "metadata": {
  "kernelspec": {
   "display_name": "Python 3 (ipykernel)",
   "language": "python",
   "name": "python3"
  },
  "language_info": {
   "codemirror_mode": {
    "name": "ipython",
    "version": 3
   },
   "file_extension": ".py",
   "mimetype": "text/x-python",
   "name": "python",
   "nbconvert_exporter": "python",
   "pygments_lexer": "ipython3",
   "version": "3.11.7"
  }
 },
 "nbformat": 4,
 "nbformat_minor": 4
}
