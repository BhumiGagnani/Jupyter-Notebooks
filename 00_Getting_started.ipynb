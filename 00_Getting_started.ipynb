{
 "cells": [
  {
   "cell_type": "markdown",
   "metadata": {},
   "source": [
    "# Getting started with Jupyter Notebooks\n",
    "\n",
    "This guide is intended to demonstrate the handling and benefits of Jupyter notebooks as an tool for students to learn, understand, and discover theoretical and applied context. By going through this notebook, you will learn:\n",
    "- What is an Jupyter notebook\n",
    "- How to use Jupyter notebooks\n",
    "- What are the benefits of Jupyter notebooks in comparison to other tools like spreadsheets."
   ]
  },
  {
   "cell_type": "markdown",
   "metadata": {},
   "source": [
    "## What is an Jupyter notebook\n",
    "\n",
    "A Jupyter notebook is more or less an interactive document that\n",
    "- combines text, figures and and other content (similar to a web page)\n",
    "- with executable programming code.\n",
    "\n",
    "That executable programming code can do things like running calculations, doing some operations, generating plots and graphics etc. The programming code is processed by a higher order programming language like ___Python___ or ___R___ (Jupyter stands for _Julia_, _Python_, and _R_ - all common programming languages).\n",
    "\n",
    "The code is processes by an interpreter that transfers the instructions into action. That interpreter is accessed through a web browser and can be placed on the local computer or somewhere in the web. In consequence, using Jupyter Notebooks just needs an web browser. Therefore, Jupyter notebooks are more or less plattform independent (in other words: you dont need to install anything on your computer and you can run the notebooks through your mobile phone too - although this is maybe somewhat limited by the screen size)."
   ]
  },
  {
   "cell_type": "markdown",
   "metadata": {},
   "source": [
    "## How to use Jupyter notebooks\n",
    "\n",
    "The notebook is organized in cells, which can contain Markdown language (as this cell) for explanation or code to perform computations. As a user, you can run the individual cells and, subsequently, see the resulting action within the notebook.\n",
    "\n",
    "Lets get started with an simple example. The following cell contains some basic _Python_ code. You can run the cell by\n",
    "- clicking the __RUN__ button on top of the notebook (within the control bar section) or\n",
    "- by just pushing the __SHIFT__ and __ENTER__ keys of your computer keybord."
   ]
  },
  {
   "cell_type": "code",
   "execution_count": 1,
   "metadata": {},
   "outputs": [
    {
     "name": "stdout",
     "output_type": "stream",
     "text": [
      "Hello\n"
     ]
    }
   ],
   "source": [
    "# This cell contains some basic Python code.\n",
    "# The Hash-Tag in Python is used to mark comments\n",
    "# It is defined as \"Code\" and comes with the symbols ln [ ]: in front of the cell.\n",
    "# If you run the cell, the code is interpreted and an asterisk * appears in the preceding brackets -> ln [*].\n",
    "# If the cell is completely processed, the asterisk will be replaced by a number -> ln[1].\n",
    "# Those numbers indicate the sequential order of cell processing.\n",
    "\n",
    "# Now some simple code\n",
    "# See what happens if you run the cell (control bar on top or SHIFT-ENTER)\n",
    "A = \"Hello\"\n",
    "print (A)\n",
    "\n"
   ]
  },
  {
   "cell_type": "code",
   "execution_count": 2,
   "metadata": {},
   "outputs": [
    {
     "name": "stdout",
     "output_type": "stream",
     "text": [
      "Hello World\n"
     ]
    }
   ],
   "source": [
    "# More computer code\n",
    "B = \"World\"\n",
    "\n",
    "print (A, B)"
   ]
  },
  {
   "cell_type": "code",
   "execution_count": 3,
   "metadata": {},
   "outputs": [
    {
     "name": "stdout",
     "output_type": "stream",
     "text": [
      "Hello again\n"
     ]
    }
   ],
   "source": [
    "# If the code in a cell contains errors, the interpreter will let you know.\n",
    "# Perform the following and try to correct\n",
    "C = \"again\"\n",
    "\n",
    "print (A, C)"
   ]
  },
  {
   "cell_type": "markdown",
   "metadata": {},
   "source": [
    "This examples demonstrate the basic functionality of Jupyter notebooks. It should be clear that although some computer code is processed, it is not necessary to fully understand the programming language.\n",
    "\n",
    "The next example demonstrate some advanced functionality of Jupyter notebooks. We will define a mathematical function (y = 3+x^2) and produce a plot of the function. So, please\n",
    "- run the cells\n",
    "- try to understand how the function is defined\n",
    "- try to modify the function and see what happens - DONE."
   ]
  },
  {
   "cell_type": "code",
   "execution_count": 5,
   "metadata": {},
   "outputs": [
    {
     "data": {
      "text/plain": [
       "[<matplotlib.lines.Line2D at 0x1d91bab5dd0>]"
      ]
     },
     "execution_count": 5,
     "metadata": {},
     "output_type": "execute_result"
    },
    {
     "data": {
      "image/png": "[encoded data removed]",
      "text/plain": [
       "<Figure size 640x480 with 1 Axes>"
      ]
     },
     "metadata": {},
     "output_type": "display_data"
    }
   ],
   "source": [
    "# The following import functions for doing calculations and plots\n",
    "import numpy as np\n",
    "import matplotlib.pyplot as plt\n",
    "\n",
    "%matplotlib inline\n",
    "\n",
    "# Here we define the function - this is where you can do some modifications (e.g. change the exponent)\n",
    "# You just have to know that \"**\" in Python is for the exponent (1^2 = 1**2)\n",
    "\n",
    "def superfunction(x):\n",
    "    return 3 + x**4\n",
    "\n",
    "# Following lines for plotting the function from x = -10 to 10; you can change this too.\n",
    "\n",
    "X = np.linspace(-10, 10)\n",
    "Y = superfunction(X)\n",
    "plt.plot(X, Y)"
   ]
  },
  {
   "cell_type": "markdown",
   "metadata": {},
   "source": [
    "## What are benefits of Jupyter notebooks\n",
    "\n",
    "The use of Jupyter notebooks comes with several benefits that are subsequently listed. __Jupyter notebooks__:\n",
    "- are plattform independent. It is not necessary to install something on a local machine rather Jupyter notebooks can be accessed by any machine that comes with a web-browser;\n",
    "- are freely accessible open-source tools. Accordingly, those tools can be used free-of-charge;\n",
    "- allow to combine calculations, computations, plotting etc. within a single and interactive document;\n",
    "- allow users to access and understand the calculations and computations. Accordingly, users can modify those and start their own investigation based on this;\n",
    "- combine code and explanations and, therefore, are much more comprehensible than for example a single spreadsheet;\n",
    "- introduce computer coding and programming language to users (although they don't need to fully understand this in order to use the notebooks)."
   ]
  },
  {
   "cell_type": "code",
   "execution_count": null,
   "metadata": {},
   "outputs": [],
   "source": []
  }
 ],
 "metadata": {
  "kernelspec": {
   "display_name": "Python 3 (ipykernel)",
   "language": "python",
   "name": "python3"
  },
  "language_info": {
   "codemirror_mode": {
    "name": "ipython",
    "version": 3
   },
   "file_extension": ".py",
   "mimetype": "text/x-python",
   "name": "python",
   "nbconvert_exporter": "python",
   "pygments_lexer": "ipython3",
   "version": "3.11.7"
  },
  "toc": {
   "base_numbering": 1,
   "nav_menu": {},
   "number_sections": true,
   "sideBar": true,
   "skip_h1_title": false,
   "title_cell": "Table of Contents",
   "title_sidebar": "Contents",
   "toc_cell": false,
   "toc_position": {},
   "toc_section_display": true,
   "toc_window_display": false
  },
  "varInspector": {
   "cols": {
    "lenName": 16,
    "lenType": 16,
    "lenVar": 40
   },
   "kernels_config": {
    "python": {
     "delete_cmd_postfix": "",
     "delete_cmd_prefix": "del ",
     "library": "var_list.py",
     "varRefreshCmd": "print(var_dic_list())"
    },
    "r": {
     "delete_cmd_postfix": ") ",
     "delete_cmd_prefix": "rm(",
     "library": "var_list.r",
     "varRefreshCmd": "cat(var_dic_list()) "
    }
   },
   "types_to_exclude": [
    "module",
    "function",
    "builtin_function_or_method",
    "instance",
    "_Feature"
   ],
   "window_display": false
  }
 },
 "nbformat": 4,
 "nbformat_minor": 4
}
