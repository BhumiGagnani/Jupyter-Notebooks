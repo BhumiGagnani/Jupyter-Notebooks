{
 "cells": [
  {
   "cell_type": "markdown",
   "metadata": {},
   "source": [
    "# Steady state flow towards a well in an Confined Aquifer \n",
    "\n",
    "## Thiem Equation \n",
    "\n",
    "You can calculate the flow towards a well in a confinded Aquifer with this Equations:\n",
    "\n",
    "$$R = 3000 \\cdot s \\cdot \\sqrt{K}$$\n",
    "\n",
    "$$Q = \\frac{2 \\cdot \\pi \\cdot m \\cdot K \\cdot (H - h)}{2.3 \\cdot lg(\\frac{R}{r})}$$\n",
    "\n",
    "with:<br>\n",
    "    $R$ = radius of the influence [L], <br>\n",
    "    $s$ = drawdown [L] = H - h, <br>\n",
    "    $K$ = hydraulik conductivity [L/T], <br>\n",
    "    $Q$ = pumping rate [L^3/T], <br>\n",
    "    $m$ = Thickness of the Aquifer [L], <br>\n",
    "    $H$ = water level at rest [L], <br>\n",
    "    $h$ = water level at distance r, [L] <br>\n",
    "    $r$ = distance from the well, [L] \n",
    "    \n",
    "if you change the formula you get the following equation for the water level depending on the distance of the well:\n",
    "\n",
    "$$h = H -\\frac{Q}{2 \\cdot \\pi \\cdot K \\cdot m} \\cdot ln\\frac{R}{r}$$\n",
    "\n"
   ]
  },
  {
   "cell_type": "code",
   "execution_count": 1,
   "metadata": {},
   "outputs": [
    {
     "data": {
      "application/vnd.jupyter.widget-view+json": {
       "model_id": "c15d22cb081b406cb508295d2cf4bf15",
       "version_major": 2,
       "version_minor": 0
      },
      "text/plain": [
       "interactive(children=(FloatSlider(value=5000.0, description='\\\\(\\\\ x_{max} \\\\):', max=10000.0, min=10.0, step=…"
      ]
     },
     "metadata": {},
     "output_type": "display_data"
    },
    {
     "data": {
      "text/plain": [
       "<function __main__.confined(x_max, r_w, K, Q, H, m)>"
      ]
     },
     "execution_count": 1,
     "metadata": {},
     "output_type": "execute_result"
    }
   ],
   "source": [
    "# Importing necessary libraries\n",
    "import numpy as np\n",
    "import matplotlib.pyplot as plt\n",
    "from ipywidgets import *\n",
    "\n",
    "# Definition of the function\n",
    "def confined(x_max,r_w,K,Q,H,m):\n",
    "    \n",
    "    #\n",
    "    R_max = 3000*(H-m)*0.01**0.5\n",
    "    R_old = R_max/2\n",
    "\n",
    "#FIND R\n",
    "    while True: \n",
    "        h_w = H - (Q * np.log(R_old/r_w))/(2 * np.pi * K * m)\n",
    "        R = 3000 * (H-h_w) * K**0.5\n",
    "        if abs(R - R_old)<0.0001:\n",
    "            break\n",
    "        R_old = R\n",
    "    \n",
    "#COMPUTE h(r)\n",
    "    r = np.arange(r_w, R, 0.01)\n",
    "    rm = r*-1\n",
    "    h = H - (Q * np.log((R)/(r)))/(2 * np.pi * K* m)\n",
    "    \n",
    "#PLOT    \n",
    "    fig = plt.figure(figsize=(9,6))\n",
    "    ax = fig.add_subplot(1, 1, 1)\n",
    "    if((h[0])>m):\n",
    "        ax.plot(r,h, '--' 'b')\n",
    "        ax.plot(rm,h, '--' 'b')\n",
    "        #ax.hlines(y= H, xmin=R,  xmax= x_max, linestyle='--', colors='b')\n",
    "        ax.hlines(y= H, xmin=-R, xmax=-x_max, linestyle='--', colors='b')\n",
    "    else:\n",
    "        ax.plot(r,h, 'r')\n",
    "        ax.plot(rm,h, 'r')\n",
    "        ax.hlines(y= H, xmin= R, xmax= x_max, colors='r')    \n",
    "        ax.hlines(y= H, xmin=-R, xmax=-x_max, colors='r')\n",
    "        ax.text((R/2),(H*1.05),'UNCONFINED CONDITIONS - ADJUST PARAMETER')\n",
    "    \n",
    "    ax.set(xlabel='x [m]',ylabel='head [m]', xlim=[(-x_max*1.1),(x_max*1.1)], ylim=[0,(H+5)])\n",
    "    \n",
    "    # MAKE 'WATER'-TRIANGLE\n",
    "    ax.arrow(x_max*0.95,(H+(H*0.04)), 0, -0.01, fc=\"k\", ec=\"k\",head_width=(x_max*0.04), head_length=(H*0.04))\n",
    "    ax.hlines(y= H-(H*0.02), xmin=x_max*0.93, xmax=x_max*0.97, colors='blue')   \n",
    "    ax.hlines(y= H-(H*0.04), xmin=x_max*0.94, xmax=x_max*0.96, colors='blue')   \n",
    "    \n",
    "    ax.hlines(y= m, xmin=-x_max, xmax=x_max, colors='saddlebrown')    #AQUIFER TOP LINE\n",
    "    \n",
    "    # COLORED AREA (ATTN: Y-VALUES = RELATIVE VALUE)\n",
    "    ax.axvspan(-x_max, x_max, ymin=0, ymax=(m/(H+5)), alpha=0.5, color='lightblue')\n",
    "    ax.axvspan(-x_max, x_max, ymin=0, ymax=((H+5)/1), alpha=0.5, color='grey')\n",
    "    \n",
    "    ax.text((x_max/2),(m/2),'confined aquifer')\n",
    "    \n",
    "    plt.show()\n",
    "\n",
    "interact(confined,\n",
    "         x_max = widgets.FloatSlider   (value = 5000, min =     10, max = 10000, step =     50, description = r'\\(\\ x_{max} \\):', disabled = False),\n",
    "         H =     widgets.FloatSlider   (value = 25,   min =      1,     max=100, step =    0.5, description = 'H (m)   :', disabled=False),\n",
    "         r_w =   widgets.FloatSlider   (value = 2,    min = 0.0001,      max=10, step =    0.5, description = r'\\(\\ r_w \\):', disabled=False),\n",
    "         K =     widgets.FloatLogSlider(value = 0.001,base= 10, min=-6,  max=-2, step = 0.0001, readout_format='.6f', description='K (m/s):'),\n",
    "         Q =     widgets.FloatSlider   (value = 0.1,  min =  0.001,       max=1, step =   0.01, description = 'Q (m3/s):' , disabled=False),\n",
    "         m =     widgets.FloatSlider   (value = 10,   min =      1,     max=100, step =    0.5, description = 'm (m)   :' , disabled=False))"
   ]
  },
  {
   "cell_type": "code",
   "execution_count": null,
   "metadata": {},
   "outputs": [],
   "source": []
  }
 ],
 "metadata": {
  "kernelspec": {
   "display_name": "Python 3 (ipykernel)",
   "language": "python",
   "name": "python3"
  },
  "language_info": {
   "codemirror_mode": {
    "name": "ipython",
    "version": 3
   },
   "file_extension": ".py",
   "mimetype": "text/x-python",
   "name": "python",
   "nbconvert_exporter": "python",
   "pygments_lexer": "ipython3",
   "version": "3.11.7"
  }
 },
 "nbformat": 4,
 "nbformat_minor": 4
}
