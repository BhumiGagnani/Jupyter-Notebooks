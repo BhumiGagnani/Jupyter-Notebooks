{
 "cells": [
  {
   "cell_type": "markdown",
   "metadata": {},
   "source": [
    "# Transient one-dimensional flow - hydraulic head response to stream flood"
   ]
  },
  {
   "cell_type": "markdown",
   "metadata": {},
   "source": [
    "If an aquifer hydraulically interacts with a river or stream, surface water floods will propagate into the aquifer. In the following, we look at a semi-infinite confined aquifer, i.e. a confined aquifer that interacts with a fully penetrating river on one side and has no boundary on the other side (Figure 1). This situation can be described by the following one-dimensional groundwater flow equation (assuming a homogeneous aquifer without sinks or sources, e.g. no recharge from precipitation):\n",
    "\n",
    "$$\\frac{\\partial² h}{\\partial x²} = \\frac {S \\partial h}{T \\partial t}$$\n",
    "\n",
    "where $h$ is hydraulic head, $x$ is distance from the surface water, $S$ is storage coefficient (storativity), $T$ is transmissivity, and $t$ is time.\n",
    "We assume the aquifer is initially in equlibrium with the surface water at $h = 0$, i.e. the hydraulic heads of the aquifer are initally equal to the surface water level, which is described by the following initial condition:\n",
    "\n",
    "$$h(x,t=0)=0$$ \n",
    "\n",
    "At $t = 0$ the surface water level and thus the hydraulic head at $x = 0$ is subject to a sudden rise to $h_0$, which is described by the boundary condition:\n",
    "\n",
    "$$h(0,t>0) = h_0$$\n",
    "\n",
    "The solution of the above flow equation for the given intial and boundary conditions is\n",
    "\n",
    "$$h(x,t)=h_0 \\: \\mathrm{ erfc}\\left(\\sqrt{\\frac{S x^2}{4T (t)}}\\right)$$\n",
    "\n",
    "This solution can also be applied to unconfined aquifers if the variation of the hydraulic head is small relative to the saturated thickness of the aquifer such that the transmissivity can be regarded as approximately constant. \n",
    "\n",
    "Bakker & Post (2022) provide more details about the derivation of this solution and a Python code for its application. This Jupyter Notebook makes use of their Python code and adds features such as sliders and textboxes that facilitate the variation of parameter values and the visualisation of their effects on the hydraulic heads.\n",
    "<br><br>\n",
    "\n",
    "<img src='FIGS\\Fig1_transient_1d_flow_conf.jpg' width=\"400\"> <br>\n",
    "*Figure 1: Aquifer headchange due to surface water level change.*\n",
    "\n",
    "\n",
    "References: Bakker, M., & Post, V. (2022). Analytical groundwater modeling: Theory and applications using Python. CRC Press."
   ]
  },
  {
   "cell_type": "code",
   "execution_count": 29,
   "metadata": {},
   "outputs": [],
   "source": [
    "%matplotlib inline\n",
    "import numpy as np\n",
    "import matplotlib.pyplot as plt\n",
    "import matplotlib.cm as cm\n",
    "from ipywidgets import *\n",
    "from scipy.special import erfc\n",
    "from datetime import datetime"
   ]
  },
  {
   "cell_type": "code",
   "execution_count": null,
   "metadata": {},
   "outputs": [],
   "source": [
    "# Parameters\n",
    "T = widgets.IntSlider(value=10, min=0, max=100, step=0.1, layout=Layout(width='220px'))\n",
    "S = widgets.FloatLogSlider(value=10e-1, base=10, min=-6, max=-0.52, layout=Layout(width='220px')) \n",
    "h0 = widgets.FloatSlider(value=2, min=0.1, max=10, step=0.1, layout=Layout(width='220px')) # change in river level, m\n",
    "max_x = widgets.IntText(value=200, min=1, max=1000, step=10, layout=Layout(width='220px')) # maximal plottet distance from the river\n",
    "max_t = widgets.IntText(value=100, min=1, max=1000, step=10, layout=Layout(width='220px')) # maximal plottet distance from the river\n",
    "t0 = 0 # time of change in river level, d\n",
    "\n",
    "# Initialize to save previously plotted lines and their parameters\n",
    "saved_lines = []"
   ]
  },
  {
   "cell_type": "code",
   "execution_count": 31,
   "metadata": {},
   "outputs": [],
   "source": [
    "def h_edelman(x, t, T, S, h0=1, t0=0): \n",
    "    # Funktion to evaluate the head change after Edelman (1947)\n",
    "    u = np.sqrt(S * x ** 2 / (4 * T * (t - t0)))\n",
    "    return h0 * erfc(u)\n",
    "\n",
    "def Qx_edelman(x, t, T, S, h0, t0=0):  \n",
    "    # Funktion to evaluate the 1d flux after Darcy(1856) and Edelman (1947)\n",
    "    u = np.sqrt(S * x ** 2 / (4 * T * (t - t0)))\n",
    "    return T * h0 * 2 * u / (x * np.sqrt(np.pi)) * np.exp(-u ** 2)\n"
   ]
  },
  {
   "cell_type": "code",
   "execution_count": 32,
   "metadata": {},
   "outputs": [],
   "source": [
    "def plot_sol(T, S, h0, max_x, max_t, t0, replot_saved=True):\n",
    "    global fig, ax1, ax2, ax3, ax4\n",
    "    fig, ((ax1, ax2), (ax3, ax4)) = plt.subplots(2, 2, figsize=(15, 15))\n",
    "    plt.subplots_adjust(hspace=1,bottom=0.25)\n",
    "    x = np.linspace(1e-12, max_x, 100)\n",
    "    t = np.linspace(1e-12, max_t, 100)\n",
    "    \n",
    "\n",
    "    # Plot saved lines with decreasing alpha\n",
    "    if replot_saved:\n",
    "        base_alpha = 1.0  # Start with full opacity for the most recent saved line\n",
    "        alpha_decrement = 0.4  # Adjust this as needed for fading effect\n",
    "        for i, line in enumerate(reversed(saved_lines)):\n",
    "            alpha = max(0.1, base_alpha - i * alpha_decrement)  # Ensure alpha stays above 0.1 for visibility\n",
    "            plot_saved_lines(line, x, t, alpha=alpha)\n",
    "    \n",
    "    for time, c in zip([1, 10, 100], ['limegreen', 'dodgerblue', 'mediumslateblue']):    \n",
    "        h = h_edelman(x, time, T, S, h0, t0)\n",
    "        ax1.plot(x, h, label=f'time={time} d', color=c) \n",
    "    \n",
    "    ax1.grid()\n",
    "    ax1.set_xlabel('$x$ [m]')\n",
    "    ax1.set_ylabel('h [m]')\n",
    "    ax1.set_ylim(0, h0)\n",
    "    ax1.set_xlim(0, max_x)\n",
    "\n",
    "    for time, c in zip([1, 10, 100],  ['limegreen', 'dodgerblue', 'blueviolet']):  \n",
    "        Qx = Qx_edelman(x, time, T, S, h0, t0)\n",
    "        ax2.plot(x, Qx, label=f'time={time} d', color=c)  \n",
    "    ax2.grid()\n",
    "    ax2.set_xlabel('$x$ [m]')\n",
    "    ax2.set_ylabel('$Q_x$ [m$^2$/d]')\n",
    "    ax2.set_xlim(0, max_x)\n",
    "\n",
    "    for dist, c in zip([50, 100, 200], ['firebrick', 'darkorange', 'gold']):   \n",
    "        h = h_edelman(dist, t, T, S, h0, t0)\n",
    "        ax3.plot(t, h, label=f'distance={dist} m', color=c) \n",
    "    ax3.grid()\n",
    "    ax3.set_xlabel('$t$ [d]')\n",
    "    ax3.set_ylabel('h [m]')\n",
    "    ax3.set_ylim(0, h0)\n",
    "    ax3.set_xlim(0, max_t)\n",
    "\n",
    "    for dist, c in zip([50, 100, 200],  ['firebrick', 'darkorange', 'gold']):   \n",
    "        Qx = Qx_edelman(dist, t, T, S, h0, t0)\n",
    "        ax4.plot(t, Qx, label=f'distance={dist} d', color=c)\n",
    "    ax4.grid()\n",
    "    ax4.set_xlabel('$t$ [d]')\n",
    "    ax4.set_ylabel('$Q_x$ [m$^2$/d]')\n",
    "    ax4.set_xlim(0, max_t)\n",
    "\n",
    "    # Legends\n",
    "    global lgt1, lgt2\n",
    "    handles_time, labels_time = ax1.get_legend_handles_labels()  # Collect from ax1 and ax2\n",
    "    lgt1=fig.legend(handles_time, labels_time, loc='upper center', bbox_to_anchor=(0.5, 0.6), ncol=3)  # Custom position\n",
    "\n",
    "    handles_distance, labels_distance = ax3.get_legend_handles_labels()\n",
    "    lgt2=fig.legend(handles_distance, labels_distance, loc='lower center', bbox_to_anchor=(0.5, 0.1), ncol=3)\n",
    "\n",
    "    # Plot titles\n",
    "    #fig.text(0.5, 0.90, '...as a funktion of distance', ha='center', va='center', fontsize=16, fontweight='bold')\n",
    "    #fig.text(0.5, 0.48, '... as a funktion of time', ha='center', va='center', fontsize=16, fontweight='bold')"
   ]
  },
  {
   "cell_type": "code",
   "execution_count": 33,
   "metadata": {},
   "outputs": [],
   "source": [
    "\n",
    "def plot_saved_lines(line, x, t, alpha=1.0):\n",
    "    # Retrieve the saved parameters for each line\n",
    "    T_saved = line['T']\n",
    "    S_saved = line['S']\n",
    "    h0_saved = line['delta_h']\n",
    "    \n",
    "    # Fixed colors and line styles\n",
    "    colors1 = ['limegreen', 'dodgerblue', 'blueviolet']\n",
    "    colors2 = ['firebrick', 'darkorange', 'gold']\n",
    "    linestyles = ['--', '-.', ':']\n",
    "\n",
    "    # Plot saved head changes with explicit color, style, and transparency\n",
    "    for i, time in enumerate([1, 10, 100]):\n",
    "        h = h_edelman(x, time, T_saved, S_saved, h0_saved)\n",
    "        ax1.plot(x, h, linestyle=linestyles[i % len(linestyles)], color=colors1[i % len(colors1)], \n",
    "                 label=f'saved time={time}, T={T_saved}, S={S_saved:.2f}', linewidth=2, alpha=alpha)\n",
    "\n",
    "        Qx = Qx_edelman(x, time, T_saved, S_saved, h0_saved)\n",
    "        ax2.plot(x, Qx, linestyle=linestyles[i % len(linestyles)], color=colors1[i % len(colors1)], \n",
    "                 label=f'saved time={time}, T={T_saved}, S={S_saved:.2f}', linewidth=2, alpha=alpha)\n",
    "\n",
    "    for i, dist in enumerate([50, 100, 200]):\n",
    "        h = h_edelman(dist, t, T_saved, S_saved, h0_saved)\n",
    "        ax3.plot(t, h, linestyle=linestyles[i % len(linestyles)], color=colors2[i % len(colors2)], \n",
    "                 label=f'saved dist={dist}, T={T_saved}, S={S_saved:.2f}', linewidth=2, alpha=alpha)\n",
    "\n",
    "        Qx = Qx_edelman(dist, t, T_saved, S_saved, h0_saved)\n",
    "        ax4.plot(t, Qx, linestyle=linestyles[i % len(linestyles)], color=colors2[i % len(colors2)], \n",
    "                 label=f'saved dist={dist}, T={T_saved}, S={S_saved:.2f}', linewidth=2, alpha=alpha)\n"
   ]
  },
  {
   "cell_type": "code",
   "execution_count": 34,
   "metadata": {},
   "outputs": [],
   "source": [
    "def on_button_clicked(b):\n",
    "    global saved_lines\n",
    "    saved_lines.append({\n",
    "        'T': T.value,\n",
    "        'S': S.value,\n",
    "        'delta_h': h0.value,\n",
    "        'max_x': max_x.value,\n",
    "        'max_t': max_t.value,\n",
    "        'alpha': 1.0  # Full opacity for new saves\n",
    "    })\n",
    "\n",
    "def on_sfbutton_clicked(b):\n",
    "    # Function to handle button click event\n",
    "\n",
    "    now= datetime.now()\n",
    "    dt_strg= now.strftime('%H%M%S_%Y%m%d_')\n",
    "    fig.savefig(dt_strg+'transient_1d_flow.png', bbox_extra_artists=(lgt1,lgt2,), bbox_inches='tight')\n",
    "    "
   ]
  },
  {
   "cell_type": "code",
   "execution_count": 35,
   "metadata": {
    "scrolled": false
   },
   "outputs": [
    {
     "data": {
      "application/vnd.jupyter.widget-view+json": {
       "model_id": "db24da2e965f4100920e29073ea0ac6a",
       "version_major": 2,
       "version_minor": 0
      },
      "text/plain": [
       "GridspecLayout(children=(HTML(value='<h1> Groundwater response to abrupt change in surface water level </h1>',…"
      ]
     },
     "execution_count": 35,
     "metadata": {},
     "output_type": "execute_result"
    }
   ],
   "source": [
    "\n",
    "# Connect the button click event to the function\n",
    "button = widgets.Button(description='save lines')   # Button for saving current lines\n",
    "button.on_click(on_button_clicked)\n",
    "\n",
    "sfbutton = widgets.Button(description='save figure')\n",
    "sfbutton.on_click(on_sfbutton_clicked)\n",
    "\n",
    "# Output layout\n",
    "out = widgets.interactive_output(plot_sol, {'T':T, 'S':S, 'h0':h0, 'max_x':max_x, 'max_t':max_t, 't0':widgets.fixed(t0)})\n",
    "grid = GridspecLayout(15, 8)\n",
    "\n",
    "# Plot\n",
    "grid[:1, :] = HTML('<h1> Groundwater response to abrupt change in surface water level </h1>')\n",
    "grid[1:, 2:] = out\n",
    "\n",
    "# Input widgets and buttons\n",
    "grid[1:2, :2] = VBox([HTML('T [m²/d] <br> Transmissivity'), T])\n",
    "grid[2:3, :2] = VBox([HTML('h0 [m] <br> Water level to which the river rises <br> from an initial level of zero'), h0])\n",
    "grid[3:4, :2] = VBox([HTML('S [-] <br> Storativity (storage coefficient)'), S])\n",
    "grid[4:5, :2] = VBox([HTML('max_x [m] <br> (Maximal) distance from the river'), max_x])\n",
    "grid[5:6, :2] = VBox([HTML('max_t [m] <br> (Maximal) time since sudden rise <br> in the water level of the river'), max_t])\n",
    "\n",
    "grid[7:8, :2] = HBox([button, sfbutton]) \n",
    "\n",
    "\n",
    "\n",
    "grid"
   ]
  },
  {
   "cell_type": "markdown",
   "metadata": {},
   "source": [
    "This work &copy; 2024 by Edith Grießer, Steffen Birk (University of Graz) is licensed under  <a href=\"https://creativecommons.org/licenses/by/4.0/?ref=chooser-v1\" target=\"_blank\" rel=\"license noopener noreferrer\" style=\"display:inline-block;\">CC BY 4.0<img style=\"height:22px!important;margin-left:3px;vertical-align:text-bottom;\" src=\"https://mirrors.creativecommons.org/presskit/icons/cc.svg?ref=chooser-v1\" alt=\"\"><img style=\"height:22px!important;margin-left:3px;vertical-align:text-bottom;\" src=\"https://mirrors.creativecommons.org/presskit/icons/by.svg?ref=chooser-v1\" alt=\"\"></a></p> "
   ]
  }
 ],
 "metadata": {
  "kernelspec": {
   "display_name": "Python 3",
   "language": "python",
   "name": "python3"
  },
  "language_info": {
   "codemirror_mode": {
    "name": "ipython",
    "version": 3
   },
   "file_extension": ".py",
   "mimetype": "text/x-python",
   "name": "python",
   "nbconvert_exporter": "python",
   "pygments_lexer": "ipython3",
   "version": "3.11.7"
  }
 },
 "nbformat": 4,
 "nbformat_minor": 2
}
