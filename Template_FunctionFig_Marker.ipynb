{
 "cells": [
  {
   "cell_type": "markdown",
   "id": "df14549d",
   "metadata": {},
   "source": [
    "# HEADER\n",
    "\n",
    "This notebook can serve as a template to develop a simple Jupyter Notebook that displays a functional behavior interactively. The notebook generates a plot and allows to modify parameters. Further, the functional values can be printed for user-defined values.\n",
    "\n",
    "The notebook can be subsequently transferred to a Streamlit App for easy deployment.\n",
    "\n",
    "Place your explanation etc. here.\n",
    "\n",
    "The function we are looking is \n",
    "\n",
    "$$ f(x) = x^n+b$$"
   ]
  },
  {
   "cell_type": "code",
   "execution_count": 15,
   "id": "05e83072",
   "metadata": {},
   "outputs": [
    {
     "data": {
      "application/vnd.jupyter.widget-view+json": {
       "model_id": "96c41f1b1b804d52a4275e7f99cbcd89",
       "version_major": 2,
       "version_minor": 0
      },
      "text/plain": [
       "interactive(children=(IntSlider(value=2, description='n', max=10, min=1, readout_format='6.3f'), FloatSlider(v…"
      ]
     },
     "metadata": {},
     "output_type": "display_data"
    },
    {
     "data": {
      "text/plain": [
       "<function __main__.Plot_EQ(n, b, x_point)>"
      ]
     },
     "execution_count": 15,
     "metadata": {},
     "output_type": "execute_result"
    }
   ],
   "source": [
    "# This is a simple computation with a fixed temperature of 10 degrees celsius.\n",
    "\n",
    "# Initialize librarys - This eventually needs adapted\n",
    "import matplotlib\n",
    "import matplotlib.pyplot as plt\n",
    "import numpy as np\n",
    "import math\n",
    "from ipywidgets import *\n",
    "\n",
    "\n",
    "def EQ(n,b,x):\n",
    "    fx = (x**n)+b\n",
    "    return fx\n",
    "\n",
    "def Plot_EQ(n,b,x_point):\n",
    "    xmax = 50\n",
    "    x = np.arange(-xmax, xmax, 0.01)\n",
    "    \n",
    "    #Compute EQ\n",
    "    y = EQ(n,b,x)\n",
    "    \n",
    "    #Compute K_eq for the example point\n",
    "    y_point = EQ(n,b,x_point)\n",
    "    \n",
    "    # Plot\n",
    "    fig = plt.figure(figsize=(8,6))\n",
    "    ax = fig.add_subplot(1, 1, 1)\n",
    "\n",
    "    ax.plot(x,y, label='EQ')\n",
    "    ax.set(xlabel='x-axis denotation', ylabel='y-axis denotation',title='Title of plot')\n",
    "    ax.set(xlim=(-50, 50), ylim=(-50, 50))\n",
    "    plt.plot(x_point,y_point, marker='o', color='r',linestyle ='None', label='your input') \n",
    "    ax.grid()\n",
    "    plt.legend()\n",
    "    plt.show()\n",
    "    \n",
    "    print(\"x-value: %6.3f\" %x_point)\n",
    "    print('y-value:  %5.2f' %y_point)\n",
    "    \n",
    "d = 1\n",
    "interact(Plot_EQ,\n",
    "         n=widgets.IntSlider(value=2, min=1, max=10, step=1,readout=True,readout_format='6.3f'),\n",
    "         b=widgets.FloatSlider(value=5, min=-20, max=20, step=0.01,readout=True,readout_format='6.3f'),\n",
    "         x_point=widgets.FloatSlider(value=0, min=-10, max=10, step=0.01,readout=True,readout_format='6.3f'))"
   ]
  },
  {
   "cell_type": "code",
   "execution_count": null,
   "id": "9dfaca84",
   "metadata": {},
   "outputs": [],
   "source": []
  }
 ],
 "metadata": {
  "kernelspec": {
   "display_name": "Python 3 (ipykernel)",
   "language": "python",
   "name": "python3"
  },
  "language_info": {
   "codemirror_mode": {
    "name": "ipython",
    "version": 3
   },
   "file_extension": ".py",
   "mimetype": "text/x-python",
   "name": "python",
   "nbconvert_exporter": "python",
   "pygments_lexer": "ipython3",
   "version": "3.11.7"
  },
  "toc": {
   "base_numbering": 1,
   "nav_menu": {},
   "number_sections": true,
   "sideBar": true,
   "skip_h1_title": false,
   "title_cell": "Table of Contents",
   "title_sidebar": "Contents",
   "toc_cell": false,
   "toc_position": {},
   "toc_section_display": true,
   "toc_window_display": false
  }
 },
 "nbformat": 4,
 "nbformat_minor": 5
}
