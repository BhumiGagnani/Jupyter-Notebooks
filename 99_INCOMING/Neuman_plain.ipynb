{
 "cells": [
  {
   "cell_type": "code",
   "execution_count": 24,
   "id": "9e8ea7c9-8857-4005-93c8-4ba30ba2c44a",
   "metadata": {},
   "outputs": [
    {
     "data": {
      "application/vnd.jupyter.widget-view+json": {
       "model_id": "7a4c8dd994cb4eaf93daff917c08e252",
       "version_major": 2,
       "version_minor": 0
      },
      "text/plain": [
       "interactive(children=(BoundedFloatText(value=1000.0, description='$Q$[L^3/T]:', max=10000.0, min=1.0, step=1.0…"
      ]
     },
     "metadata": {},
     "output_type": "display_data"
    },
    {
     "data": {
      "text/plain": [
       "<function __main__.Neuman_plot(Q, T, S, Sy, r, t)>"
      ]
     },
     "execution_count": 24,
     "metadata": {},
     "output_type": "execute_result"
    }
   ],
   "source": [
    "# Initialize librarys\n",
    "import scipy.special as sc\n",
    "import matplotlib\n",
    "import matplotlib.pyplot as plt\n",
    "import numpy as np\n",
    "import math\n",
    "from ipywidgets import *\n",
    "\n",
    "# Definition of the function\n",
    "def Neuman_drawdown(Q, T, S, Sy, r, t):\n",
    "\n",
    "    u = (r**2 * S) / (4 * T * t)\n",
    "    uf = (r**2 * Sy) / (4 * T * t)\n",
    "    W_u = sc.expn(1, u)\n",
    "    W_uf = sc.expn(1, uf)\n",
    "    s = (Q / (4 * np.pi * T)) * (W_u + (Sy / S) * (W_u - W_uf))\n",
    "    return s\n",
    "\n",
    "time = np.logspace(0, 5, 100)  # Time in log scale from 1 to 10,000 [T]\n",
    "\n",
    "# Plot drawdown over time\n",
    "def Neuman_plot(Q, T, S, Sy, r, t):\n",
    "    drawdown = [Neuman_drawdown(Q, T, S, Sy, r, t) for t in time]\n",
    "    plt.figure(figsize=(8, 6))\n",
    "    plt.plot(time, drawdown, label=f'r = {r} m')\n",
    "    plt.xscale('log')\n",
    "    plt.yscale('log')\n",
    "    plt.xlabel('Time [T]')\n",
    "    plt.ylabel('Drawdown [L]')\n",
    "    plt.title('Neuman Equation')\n",
    "    plt.legend()\n",
    "    plt.grid(True)\n",
    "    plt.show()\n",
    "\n",
    "# Computation\n",
    "\n",
    "interact(Neuman_plot,\n",
    "         Q=widgets.BoundedFloatText(value=1000, min=1, max=10000, step=1, description=\"$Q$[L^3/T]:\", disabled=False),\n",
    "         T=widgets.BoundedFloatText(value=500, min=50, max=1000, step=5, description=\"$T$[L^2/T]:\", disabled=False),\n",
    "         S=widgets.BoundedFloatText(value=0.001, min=0.0001, max=0.1, step=0.0001, description=\"$S$[]:\", disabled=False),\n",
    "         Sy=widgets.BoundedFloatText(value=0.15, min=0.01, max=0.25, step=0.01, description=\"$Sy$[]:\", disabled=False),\n",
    "         r=widgets.BoundedFloatText(value=50, min=1, max=1000, step=1, description=\"$r$[L]:\", disabled=False),\n",
    "         t=widgets.BoundedFloatText(value=100, min=1, max=10000, step=1, description=\"$t$[T]:\", disabled=False))"
   ]
  },
  {
   "cell_type": "code",
   "execution_count": null,
   "id": "48b68ee5-e901-4438-8ce6-cee4457feba4",
   "metadata": {},
   "outputs": [],
   "source": []
  },
  {
   "cell_type": "code",
   "execution_count": null,
   "id": "e3d20518-340a-413d-994d-418264535a6a",
   "metadata": {},
   "outputs": [],
   "source": []
  },
  {
   "cell_type": "code",
   "execution_count": null,
   "id": "7cf2cd72-2006-417a-90c2-5edd98f10444",
   "metadata": {},
   "outputs": [],
   "source": []
  }
 ],
 "metadata": {
  "kernelspec": {
   "display_name": "Python 3 (ipykernel)",
   "language": "python",
   "name": "python3"
  },
  "language_info": {
   "codemirror_mode": {
    "name": "ipython",
    "version": 3
   },
   "file_extension": ".py",
   "mimetype": "text/x-python",
   "name": "python",
   "nbconvert_exporter": "python",
   "pygments_lexer": "ipython3",
   "version": "3.12.5"
  }
 },
 "nbformat": 4,
 "nbformat_minor": 5
}
