{
 "cells": [
  {
   "cell_type": "markdown",
   "id": "5fc636aa-364b-48f5-8176-4687a509f61b",
   "metadata": {},
   "source": [
    "# Transient Time Calculation in Aquifer System\n",
    "\n",
    "The left-hand boundary is impermeable (flow divide), and flow discharges through the right-hand fixed-head boundary. The travel time is calculated between two arbitrary points: $ x_i $ (the departure point at the water table) and $ x $.\n",
    "\n",
    "This flow system is used for developing the general analytical solution.\n",
    "\n",
    "## 1. Notation of Input Parameters\n",
    "\n",
    "| Parameter | Description | Units |\n",
    "|-----------|-------------|-------|\n",
    "| $ W $ | Uniform, annual average rate of infiltration | LT\\(^{-1}\\) |\n",
    "| $ K $ | Hydraulic conductivity of the aquifer | LT\\(^{-1}\\) |\n",
    "| $ n_e $ | Effective porosity | – |\n",
    "| $ L' $ | Length of the aquifer | L |\n",
    "| $ h_{L'} $ | Downstream fixed head boundary | L |\n",
    "| $ x_i $ | Initial position | L |\n",
    "| $ x $ | Downgradient arrival location for transit time calculation ( $ x_i < x < L' $ ) | L |\n",
    "\n",
    "## 2. Transient Time Calculation\n",
    "\n",
    "The transient time $t(x)$ between $ x_i $ and $ x $ can be calculated using the following analytical equation:\n",
    "\n",
    "$$ t(x) = n_e \\sqrt{\\frac{\\alpha}{KW}} \\left[ x \\sqrt{\\frac{1}{x^2} - \\frac{1}{\\alpha}} - x_i \\sqrt{\\frac{1}{x_i^2} - \\frac{1}{\\alpha}} + \\ln \\left( \\frac{\\frac{\\sqrt{\\alpha}}{x_i} + \\sqrt{\\frac{\\alpha} {x_i^2} - 1}}{\\frac{\\sqrt{\\alpha}}{x} + \\sqrt{\\frac{\\alpha}{x^2} - 1}} \\right) \\right] $$\n",
    "\n",
    "where\n",
    "\n",
    "$$ \\alpha = L'^2 + \\frac{K h_{L'}^2}{W} $$\n",
    "\n",
    "---"
   ]
  },
  {
   "cell_type": "code",
   "execution_count": 1,
   "id": "f4a194f6-e0c7-4e6d-aa1d-3373cfc959a8",
   "metadata": {},
   "outputs": [
    {
     "data": {
      "application/vnd.jupyter.widget-view+json": {
       "model_id": "c3fb8591b26746919973390c53e28a24",
       "version_major": 2,
       "version_minor": 0
      },
      "text/plain": [
       "interactive(children=(FloatSlider(value=0.009, description='W (LT⁻¹)', max=0.1, min=0.001, step=0.001), FloatS…"
      ]
     },
     "metadata": {},
     "output_type": "display_data"
    },
    {
     "data": {
      "text/plain": [
       "<function __main__.travel_time(W, K, ne, L, h_L, xi)>"
      ]
     },
     "execution_count": 1,
     "metadata": {},
     "output_type": "execute_result"
    }
   ],
   "source": [
    "# Import necessary libraries\n",
    "import numpy as np\n",
    "import ipywidgets as widgets\n",
    "from ipywidgets import interact\n",
    "import matplotlib.pyplot as plt\n",
    "\n",
    "# Define the transient time calculation function\n",
    "def travel_time(W, K, ne, L, h_L, xi):\n",
    "    x = np.arange(xi, L, 1)\n",
    "    alpha = L**2 + (K * h_L**2) / W   \n",
    "    t = ne * (alpha / (K * W))**0.5 * x *(1 / x**2 - 1 / alpha)**0.5 - xi * (1 / xi**2 - 1 / alpha)**0.5 + np.log(((alpha)**0.5 / xi + (alpha / xi**2 - 1)**0.5) / (alpha)**0.5 + (alpha / x**2 - 1)**0.5)\n",
    "    print(\"The travel time between $xi$ and $L$ is :\", t[1], \"days\")\n",
    "    \n",
    "    # PLOT FIGURE\n",
    "    fig = plt.figure(figsize=(9,6))\n",
    "    ax = fig.add_subplot(1, 1, 1)\n",
    "    ax.plot(L-x, t, color = 'black', linewidth = 2.5)\n",
    "\n",
    "interact(travel_time,\n",
    "          W=widgets.FloatSlider(value=0.009, min=0.001, max=0.1, step=0.001, description='W (LT⁻¹)'),\n",
    "          K=widgets.FloatSlider(value=10, min=0.1, max=1000, step=0.1, description='K (LT⁻¹)'),\n",
    "          ne=widgets.FloatSlider(value=0.35, min=0.01, max=0.5, step=0.01, description='n_e'),\n",
    "          L=widgets.FloatSlider(value=500, min=100, max=2500, step=50, description='L (L)'),\n",
    "          h_L=widgets.FloatSlider(value=2, min=0, max=20, step=1, description='h_L (L)'),\n",
    "          xi=widgets.FloatSlider(value=50, min=1, max=2500, step=1, description='x_i (L)'))\n"
   ]
  },
  {
   "cell_type": "code",
   "execution_count": null,
   "id": "324d2f5c-a8ee-4493-a23c-c64b19e6a3a5",
   "metadata": {},
   "outputs": [],
   "source": []
  }
 ],
 "metadata": {
  "kernelspec": {
   "display_name": "Python 3 (ipykernel)",
   "language": "python",
   "name": "python3"
  },
  "language_info": {
   "codemirror_mode": {
    "name": "ipython",
    "version": 3
   },
   "file_extension": ".py",
   "mimetype": "text/x-python",
   "name": "python",
   "nbconvert_exporter": "python",
   "pygments_lexer": "ipython3",
   "version": "3.11.7"
  }
 },
 "nbformat": 4,
 "nbformat_minor": 5
}
