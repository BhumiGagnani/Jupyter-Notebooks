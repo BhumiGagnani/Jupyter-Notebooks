{
 "cells": [
  {
   "cell_type": "markdown",
   "id": "5fc636aa-364b-48f5-8176-4687a509f61b",
   "metadata": {},
   "source": [
    "# Transient Time Calculation in Aquifer System\n",
    "\n",
    "Aquifer system with one pumping well at constant rate, no groundwater recharge.\n",
    "\n",
    "This flow system is used for developing the general analytical solution based on Chapuis and Chesnaux (2006). The notebook is based on an example from the INOWAS platform (https://www.inowas.com).\n",
    "\n",
    "## 1. Notation of Input Parameters\n",
    "\n",
    "| Parameter | Description | Units |\n",
    "|-----------|-------------|-------|\n",
    "| $ Q_W $ | constant pumping rate | L^3T^{-1} |\n",
    "| $ n_e $ | Effective porosity | – |\n",
    "| $ h_0 $ | upstream head at initial position | L |\n",
    "| $ h_L $ | downstream head (well) | L |\n",
    "| $ x_i $ | Initial position | L |\n",
    "| $ x $ | Location of the well | L |\n",
    "\n",
    "## 2. Transient Time Calculation\n",
    "\n",
    "Since it is recommended in practice to operate the pumping well with a ratio hL/hR≥ 0.5 (with hR being the upstream head at the maximum radius of influence of the well), and considering the characteristics of the function h(x), haveis very close to h0, the largest head at the starting point. For quick evaluations, it is proposed here to estimate haveas equal to 95% of h0 (the largest value at the farthest distance xi) plus 5% of hL(the smallest value at the shortest distance x), thus eq. 4 is can be used as a simplified equation for calculation the travel time through the aquifer to a pumping well.\n",
    "\n",
    "$$ t(x) = \\frac{(0.95 h_0 + 0.05 h_L) \\pi (x_i^2 - x^2) n_e}{Q_W} $$\n",
    "\n",
    "\n",
    "## References\n",
    "Chapuis, R.P., Chesnaux, R., 2006. Travel Time to a Well Pumping an Unconfined Aquifer without Recharge. Ground Water 44, 600–603. doi:10.1111/j.1745-6584.2006.00141.x"
   ]
  },
  {
   "cell_type": "code",
   "execution_count": 34,
   "id": "f4a194f6-e0c7-4e6d-aa1d-3373cfc959a8",
   "metadata": {},
   "outputs": [
    {
     "data": {
      "application/vnd.jupyter.widget-view+json": {
       "model_id": "5cb61bf71ede42a5b9306f470f7d0fee",
       "version_major": 2,
       "version_minor": 0
      },
      "text/plain": [
       "interactive(children=(FloatSlider(value=1300.0, description='Q_W (L^3T)', max=10000.0, min=1.0, step=1.0), Flo…"
      ]
     },
     "metadata": {},
     "output_type": "display_data"
    },
    {
     "data": {
      "text/plain": [
       "<function __main__.travel_time(Q_W, ne, h_0, h_L, delta_x)>"
      ]
     },
     "execution_count": 34,
     "metadata": {},
     "output_type": "execute_result"
    }
   ],
   "source": [
    "# Import necessary libraries\n",
    "import numpy as np\n",
    "import ipywidgets as widgets\n",
    "from ipywidgets import interact\n",
    "import matplotlib.pyplot as plt\n",
    "\n",
    "# Define the transient time calculation function\n",
    "def travel_time(Q_W, ne, h_0, h_L, delta_x):\n",
    "    xi = delta_x\n",
    "    x= 0\n",
    "    x = np.arange(0, xi-x, 1)\n",
    "    t = ((0.95 * h_0 + 0.05 * h_L) * np.pi * (xi**2 - x**2) * ne) / Q_W\n",
    "    print(\"The travel time between the initial position and the well [\",delta_x,\"m ] is :\", t[1], \"days\")\n",
    "    \n",
    "    # PLOT FIGURE\n",
    "    fig = plt.figure(figsize=(9,6))\n",
    "    ax = fig.add_subplot(1, 1, 1)\n",
    "    ax.plot(xi-x, t, color = 'black', linewidth = 2.5)\n",
    "    ax.set(xlabel='x [m]', ylabel='t [d]',title='Travel time')\n",
    "\n",
    "interact(travel_time,\n",
    "          Q_W=widgets.FloatSlider(value=1300, min=1, max=10000, step=1, description='Q_W (L^3T)'),\n",
    "          ne=widgets.FloatSlider(value=0.35, min=0.01, max=0.5, step=0.01, description='n_e'),\n",
    "          h_0=widgets.FloatSlider(value=10, min=0, max=20, step=1, description='h_0 (L)'),\n",
    "          h_L=widgets.FloatSlider(value=6, min=0, max=20, step=1, description='h_L (L)'),\n",
    "          delta_x=widgets.FloatSlider(value=303, min=0, max=2500, step=1, description='delta_x (L)'))"
   ]
  },
  {
   "cell_type": "code",
   "execution_count": null,
   "id": "324d2f5c-a8ee-4493-a23c-c64b19e6a3a5",
   "metadata": {},
   "outputs": [],
   "source": []
  }
 ],
 "metadata": {
  "kernelspec": {
   "display_name": "Python 3 (ipykernel)",
   "language": "python",
   "name": "python3"
  },
  "language_info": {
   "codemirror_mode": {
    "name": "ipython",
    "version": 3
   },
   "file_extension": ".py",
   "mimetype": "text/x-python",
   "name": "python",
   "nbconvert_exporter": "python",
   "pygments_lexer": "ipython3",
   "version": "3.12.5"
  }
 },
 "nbformat": 4,
 "nbformat_minor": 5
}
