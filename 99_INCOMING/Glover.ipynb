{
 "cells": [
  {
   "cell_type": "markdown",
   "id": "6af2e72e-a74a-492e-883c-bcee7016dd4d",
   "metadata": {},
   "source": [
    "### Glover Equation\n",
    "This notebook demonstrate the principle of the Glover equation. The notebook is based on an example from the INOWAS platform (https://www.inowas.com).\n",
    "\n",
    "## Introduction\n",
    "\n",
    "### General situation\n",
    "\n",
    "Glover’s equation takes into account the freshwater gradient to approximate the interface between an area of freshwater and an area of seawater, providing insight into the shape and extent of the interface. Unlike the Ghyben-Herzberg relation, freshwater discharges into the sea across an area rather than along a line.\n",
    "\n",
    "The shape of the freshwater-saltwater interface can be described by:\n",
    "\n",
    "$$ z^2 = \\frac{2 q x \\rho_f}{K (\\rho_s - \\rho_f)} + \\left( \\frac{q \\rho_f}{K (\\rho_s - \\rho_f)} \\right)^2 $$\n",
    "\n",
    "where:\n",
    "- $q$ = freshwater outflow rate per unit length of coastline [L²/T],\n",
    "- $K$ = hydraulic conductivity [L/T],\n",
    "- $x, z$ = coordinate distances from the shoreline [L],\n",
    "- $\\rho_f$ = density of freshwater [M/L³],\n",
    "- $\\rho_s$ = density of saltwater [M/L³].\n",
    "\n",
    "Using Darcy’s law, this equation can be rewritten as:\n",
    "\n",
    "$$ z(x) = \\sqrt{\\frac{2 i b x}{(\\rho_s - \\rho_f)} + \\left( \\frac{i b \\rho_f}{(\\rho_s - \\rho_f)} \\right)^2} $$\n",
    "\n",
    "where:\n",
    "- $i$ = hydraulic gradient [L/L],\n",
    "- $b$ = aquifer thickness [L].\n",
    "\n",
    "The shape of the freshwater table, $h_f(x)$, is defined as:\n",
    "\n",
    "$$ h_f(x) = \\sqrt{\\frac{2 i b x \\rho_f}{(\\rho_s - \\rho_f)}} $$\n",
    "\n",
    "The width of the zone $L$, where freshwater flows into the sea (when $z = 0$), can be calculated as:\n",
    "\n",
    "$$ L = \\frac{i b x \\rho_f}{2 (\\rho_s - \\rho_f)} $$\n",
    "\n",
    "The depth of the freshwater-saltwater interface beneath the shoreline (when $x = 0$) can be determined using the equation:\n",
    "\n",
    "$$ z_0 = \\frac{i b \\rho_f}{(\\rho_s - \\rho_f)} $$\n"
   ]
  },
  {
   "cell_type": "code",
   "execution_count": 23,
   "id": "f3099002-9f46-49dc-99bc-f3a76ff9b56c",
   "metadata": {},
   "outputs": [
    {
     "data": {
      "application/vnd.jupyter.widget-view+json": {
       "model_id": "75856e7f961f4d6d87b6b831496e34fa",
       "version_major": 2,
       "version_minor": 0
      },
      "text/plain": [
       "interactive(children=(BoundedFloatText(value=0.001, description='$i$:', max=0.01, min=0.0001, step=0.0001), Bo…"
      ]
     },
     "metadata": {},
     "output_type": "display_data"
    },
    {
     "data": {
      "text/plain": [
       "<function __main__.glover(i, b, rho_f, rho_s)>"
      ]
     },
     "execution_count": 23,
     "metadata": {},
     "output_type": "execute_result"
    }
   ],
   "source": [
    "# Initialize librarys\n",
    "from scipy.special import erfc, erf\n",
    "import matplotlib\n",
    "import matplotlib.pyplot as plt\n",
    "import numpy as np\n",
    "import math\n",
    "from ipywidgets import *\n",
    "\n",
    "# Definition of the function\n",
    "def glover(i, b, rho_f, rho_s):\n",
    "    \n",
    "    x = np.arange(0, 1000, 0.1)\n",
    "    z = (2*i*b*(1000-x)*rho_f/(rho_s - rho_f))**0.5 #eigentlich h\n",
    "    h = (2*i*b*(1000-x)/(rho_s - rho_f)+(i*b*rho_f/(rho_s - rho_f))**2)**0.5 #eigentlich z\n",
    "    z_0 = (rho_f / (rho_s - rho_f))*i*b\n",
    "    L = i*b*rho_f/(2*(rho_s - rho_f))\n",
    "    x_f = b*(rho_s - rho_f)/(2*i*rho_f)\n",
    "    print(\"Depth of the interface below the shoreline:\", z_0, \"m\")\n",
    "    print(\"Width of freshwater flow zone\", L, \"m\")\n",
    "    print(\"Inland extent of the saltwater toe:\", x_f, \"m\")\n",
    "\n",
    "    # Calculate landscape geometry\n",
    "    plot_x = np.append(np.arange(0, 2000+L, 10), 2000+L)\n",
    "    norm_x = np.linspace(-5, 5, len(plot_x))\n",
    "    plot_x = plot_x[:121]\n",
    "    plot_y = np.arctan(1/norm_x)\n",
    "    plot_y[norm_x < 0] = plot_y[norm_x < 0] + np.pi\n",
    "    scale = (10 - -10) / (np.max(plot_y) - np.min(plot_y))\n",
    "    offset = -10 - plot_y[-1] * scale\n",
    "    plot_y = plot_y * scale + offset\n",
    "    plot_y = plot_y[:121]\n",
    "\n",
    "    # PLOT FIGURE\n",
    "    fig = plt.figure(figsize=(9,6))\n",
    "    ax = fig.add_subplot(1, 1, 1)\n",
    "    plt.vlines(1000, -b, 0, color = 'yellow', linestyle = \"dashed\")\n",
    "    ax.plot(x,h-z_0, color = 'skyblue')\n",
    "    ax.plot(x+L,0-z, color = 'red', linewidth = 2.5)\n",
    "    plt.hlines(0, 1000+L, 1200, color = 'blue')\n",
    "    plt.hlines(-b, 0, 1200, color = 'black', linewidth = 5)\n",
    "    ax.fill_between(x,0-z_0,h-z_0, facecolor='lightblue')\n",
    "    ax.fill_between(np.append(999, 999+L),0,min(0-z), facecolor='lightblue')\n",
    "    ax.fill_between(x,0,0-z-L, facecolor='lightblue', alpha = 0.4)\n",
    "    ax.set(xlabel='x [m]', ylabel='head [m]',title='Glover equation')\n",
    "    ax.plot(plot_x, plot_y, c=\"black\")\n",
    "    ax.fill_between(x+L,0-z,-b, facecolor='blue')\n",
    "    ax.fill_between(np.append(999+L, 1200),0,-b, facecolor='blue')\n",
    "    plt.ylim(-b, )\n",
    "    \n",
    "\n",
    "# Computation\n",
    "\n",
    "interact(glover,\n",
    "         b=widgets.BoundedFloatText(value=50, min=1, max=100, step=1, description=\"$b$:\", disabled=False),\n",
    "         i=widgets.BoundedFloatText(value=0.001, min=0.0001, max=0.01, step=0.0001, description=\"$i$:\", disabled=False),\n",
    "         hl=widgets.BoundedFloatText(value=1, min=0, max=10, step=0.1, description=\"$h$:\", disabled=False),\n",
    "         rho_f=widgets.BoundedFloatText(value=1000, min=950, max=1050, step=1, description=r'$\\rho_{fresh}$:', disabled=False),\n",
    "         rho_s= widgets.BoundedFloatText(value=1025 ,min=950, max=1050,step=1, description=r'$\\rho_{salt}$:', disabled=False))"
   ]
  },
  {
   "cell_type": "code",
   "execution_count": null,
   "id": "3552b827-a1cd-45a2-b736-a7fd5891911c",
   "metadata": {},
   "outputs": [],
   "source": []
  },
  {
   "cell_type": "code",
   "execution_count": null,
   "id": "ea887ece-96f2-42ce-96c2-2e762e246f16",
   "metadata": {},
   "outputs": [],
   "source": []
  }
 ],
 "metadata": {
  "kernelspec": {
   "display_name": "Python 3 (ipykernel)",
   "language": "python",
   "name": "python3"
  },
  "language_info": {
   "codemirror_mode": {
    "name": "ipython",
    "version": 3
   },
   "file_extension": ".py",
   "mimetype": "text/x-python",
   "name": "python",
   "nbconvert_exporter": "python",
   "pygments_lexer": "ipython3",
   "version": "3.12.5"
  }
 },
 "nbformat": 4,
 "nbformat_minor": 5
}
