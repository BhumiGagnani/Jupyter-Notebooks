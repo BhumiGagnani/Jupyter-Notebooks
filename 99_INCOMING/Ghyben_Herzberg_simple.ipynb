{
 "cells": [
  {
   "cell_type": "code",
   "execution_count": 1,
   "id": "f3099002-9f46-49dc-99bc-f3a76ff9b56c",
   "metadata": {},
   "outputs": [
    {
     "data": {
      "application/vnd.jupyter.widget-view+json": {
       "model_id": "241dead4765447c8b8efed0c1feefbae",
       "version_major": 2,
       "version_minor": 0
      },
      "text/plain": [
       "interactive(children=(BoundedFloatText(value=1.0, description='$h$:', max=10.0, min=0.1, step=0.1), BoundedFlo…"
      ]
     },
     "metadata": {},
     "output_type": "display_data"
    },
    {
     "data": {
      "text/plain": [
       "<function __main__.ghyben_herzberg(hl, rho_f, rho_s)>"
      ]
     },
     "execution_count": 1,
     "metadata": {},
     "output_type": "execute_result"
    }
   ],
   "source": [
    "# Initialize librarys\n",
    "from scipy.special import erfc, erf\n",
    "import matplotlib\n",
    "import matplotlib.pyplot as plt\n",
    "import numpy as np\n",
    "import math\n",
    "from ipywidgets import *\n",
    "\n",
    "# Definition of the function\n",
    "def ghyben_herzberg(hl, rho_f, rho_s):\n",
    "    \n",
    "    x = np.arange(0, 1000, 0.1)\n",
    "    h = (hl**2-(hl**2-0**2)/1000*x)**0.5\n",
    "    z = (rho_f / (rho_s - rho_f)) * h\n",
    "\n",
    "    # Calculate landscape geometry\n",
    "    plot_x = np.append(np.arange(0, 2000, 10), 2000)\n",
    "    norm_x = np.linspace(-5, 5, len(plot_x))\n",
    "    plot_x = plot_x[:121]\n",
    "    plot_y = np.arctan(1/norm_x)\n",
    "    plot_y[norm_x < 0] = plot_y[norm_x < 0] + np.pi\n",
    "    scale = (10 - -10) / (np.max(plot_y) - np.min(plot_y))\n",
    "    offset = -10 - plot_y[-1] * scale\n",
    "    plot_y = plot_y * scale + offset\n",
    "    plot_y = plot_y[:121]\n",
    "\n",
    "    # PLOT FIGURE\n",
    "    fig = plt.figure(figsize=(9,6))\n",
    "    ax = fig.add_subplot(1, 1, 1)\n",
    "    ax.plot(x,h, color = 'skyblue')\n",
    "    ax.plot(x,0-z, color = 'red', linewidth = 2.5)\n",
    "    plt.hlines(0, 1000, 1200, color = 'blue')\n",
    "    ax.fill_between(x,0,h, facecolor='lightblue')\n",
    "    ax.fill_between(x,0,0-z, facecolor='lightblue', alpha = 0.4)\n",
    "    ax.set(xlabel='x [m]', ylabel='head [m]',title='Ghyben-Herzberg theorem')\n",
    "    ax.plot(plot_x, plot_y, c=\"black\")\n",
    "    ax.fill_between(x,0-z,min(0-z), facecolor='blue')\n",
    "    ax.fill_between(np.append(999, 1200),0,min(0-z), facecolor='blue')\n",
    "\n",
    "\n",
    "# Computation\n",
    "\n",
    "interact(ghyben_herzberg,\n",
    "         hl=widgets.BoundedFloatText(value=1, min=0.1, max=10, step=0.1, description=\"$h$:\", disabled=False),\n",
    "         rho_f=widgets.BoundedFloatText(value=1000, min=950, max=1050, step=1, description=r'$\\rho_{fresh}$:', disabled=False),\n",
    "         rho_s= widgets.BoundedFloatText(value=1025 ,min=950, max=1050,step=1, description=r'$\\rho_{salt}$:', disabled=False))"
   ]
  },
  {
   "cell_type": "code",
   "execution_count": null,
   "id": "826f4fa5-72e3-485e-a9d1-4da59654da21",
   "metadata": {},
   "outputs": [],
   "source": []
  }
 ],
 "metadata": {
  "kernelspec": {
   "display_name": "Python 3 (ipykernel)",
   "language": "python",
   "name": "python3"
  },
  "language_info": {
   "codemirror_mode": {
    "name": "ipython",
    "version": 3
   },
   "file_extension": ".py",
   "mimetype": "text/x-python",
   "name": "python",
   "nbconvert_exporter": "python",
   "pygments_lexer": "ipython3",
   "version": "3.12.5"
  }
 },
 "nbformat": 4,
 "nbformat_minor": 5
}
