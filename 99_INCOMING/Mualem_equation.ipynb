{
 "cells": [
  {
   "cell_type": "code",
   "execution_count": 1,
   "id": "70a9265b-492d-42e4-b1b9-28a8cac80481",
   "metadata": {},
   "outputs": [
    {
     "data": {
      "application/vnd.jupyter.widget-view+json": {
       "model_id": "c2b9a87355f84f28aa6276e7ec200ae8",
       "version_major": 2,
       "version_minor": 0
      },
      "text/plain": [
       "interactive(children=(BoundedFloatText(value=0.075, description='$alpha$ [1/cm]:', max=0.145, min=0.008, step=…"
      ]
     },
     "metadata": {},
     "output_type": "display_data"
    },
    {
     "data": {
      "text/plain": [
       "<function __main__.mualem(alpha, n, k_s)>"
      ]
     },
     "execution_count": 1,
     "metadata": {},
     "output_type": "execute_result"
    }
   ],
   "source": [
    "# Initialize librarys\n",
    "from scipy.special import erfc, erf\n",
    "import matplotlib\n",
    "import matplotlib.pyplot as plt\n",
    "import numpy as np\n",
    "import math\n",
    "from ipywidgets import *\n",
    "\n",
    "# Definiton of the function\n",
    "def mualem(alpha, n, k_s):\n",
    "    psi_values = np.logspace(-2, 4, 500)\n",
    "    m = 1 - 1/n\n",
    "    alpha = alpha * 100\n",
    "    k_s = k_s/(100*24*60*60)\n",
    "    S_e = 1 / (1 + (alpha * np.abs(psi_values))**n)**m\n",
    "    k_psi = k_s * S_e**0.5 * (1 - (1 - S_e**(1/m))**m)**2\n",
    "    \n",
    "# Plot the relationship\n",
    "    plt.figure(figsize=(10, 6))\n",
    "    plt.loglog(psi_values, k_psi, label='Hydraulic Conductivity $k(\\\\psi)$')\n",
    "    plt.xlabel('Suction Pressure (Matric Potential) $\\\\psi$ (m)')\n",
    "    plt.ylabel('Hydraulic Conductivity $k(\\\\psi)$ (m/s)')\n",
    "    plt.title('Mualem equation')\n",
    "    plt.grid(True, which='both', linestyle='--', linewidth=0.5)\n",
    "    plt.legend()\n",
    "    plt.show()\n",
    "\n",
    "# Computation\n",
    "\n",
    "interact(mualem,\n",
    "         alpha=widgets.BoundedFloatText(value=0.075, min=0.008, max=0.145, step=0.001, description=\"$alpha$ [1/cm]:\", disabled=False),\n",
    "         n=widgets.BoundedFloatText(value=1.89, min=1.09, max=2.68, step=0.01, description=\"$n$ [-]:\", disabled=False),\n",
    "         k_s=widgets.BoundedFloatText(value=105, min=4.5, max=715, step=5, description=\"$ks$ [cm/day]:\", disabled=False))"
   ]
  },
  {
   "cell_type": "code",
   "execution_count": null,
   "id": "ffb50f62-b93e-4d1c-aa3e-f8cbf53fa79b",
   "metadata": {},
   "outputs": [],
   "source": []
  },
  {
   "cell_type": "code",
   "execution_count": null,
   "id": "74455199-c611-46b0-be72-09fc5ae52418",
   "metadata": {},
   "outputs": [],
   "source": []
  }
 ],
 "metadata": {
  "kernelspec": {
   "display_name": "Python 3 (ipykernel)",
   "language": "python",
   "name": "python3"
  },
  "language_info": {
   "codemirror_mode": {
    "name": "ipython",
    "version": 3
   },
   "file_extension": ".py",
   "mimetype": "text/x-python",
   "name": "python",
   "nbconvert_exporter": "python",
   "pygments_lexer": "ipython3",
   "version": "3.12.5"
  }
 },
 "nbformat": 4,
 "nbformat_minor": 5
}
