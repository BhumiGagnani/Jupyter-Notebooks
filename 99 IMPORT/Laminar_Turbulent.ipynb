{
 "cells": [
  {
   "cell_type": "markdown",
   "metadata": {},
   "source": [
    "This simple noebook compares the *discharges in a pipe at laminar and turbulent flow conditions*, using Hagen- Poiseuille and Darcy-Weisbach Equations, respectively."
   ]
  },
  {
   "cell_type": "code",
   "execution_count": 1,
   "metadata": {},
   "outputs": [],
   "source": [
    "import numpy as np\n",
    "import matplotlib.pyplot as plt\n",
    "import pandas as pd \n",
    "from scipy import stats\n",
    "%matplotlib inline"
   ]
  },
  {
   "cell_type": "code",
   "execution_count": 2,
   "metadata": {},
   "outputs": [
    {
     "name": "stdout",
     "output_type": "stream",
     "text": [
      "Desired conduit diameter (m):\n",
      "1\n",
      "Desired conduit wall roughness, kc (m):\n",
      "0.1\n",
      "Desired conduit length (m):\n",
      "10\n"
     ]
    },
    {
     "data": {
      "image/png": "[encoded data removed]",
      "text/plain": [
       "<Figure size 648x432 with 1 Axes>"
      ]
     },
     "metadata": {
      "needs_background": "light"
     },
     "output_type": "display_data"
    }
   ],
   "source": [
    "# Inputs:\n",
    "\n",
    "\n",
    "##### Fixed values and constants:\n",
    "k_viscos_w = 8.927E-07         # m^2/s, Water kynematic viscosity at 25 degree Celsuis\n",
    "                               # (Reference: https://www.engineeringtoolbox.com/water-dynamic-kinematic-viscosity-d_596.html)\n",
    "g = 9.80665                    # m/s^2, Gravitational acceleration\n",
    "count = 1000                   # Number of calculated values\n",
    "dh_initial = 1E-8              # Initial_dh for computation (m)\n",
    "dh_growth = 0.02               # A dh growth factor (-) \n",
    "\n",
    "\n",
    "##### Difining the variables (Initialization with zero cells)\n",
    "dh = np.zeros(count)\n",
    "Q_lam = np.zeros(count)\n",
    "Q_turb = np.zeros(count)\n",
    "\n",
    "##### Pipe input data\n",
    "print (\"Desired conduit diameter (m):\")                            # Test value: 1 meters\n",
    "d = float(input())\n",
    "print (\"Desired conduit wall roughness, kc (m):\")                  # Test value: 0.05 m\n",
    "rough = float(input())\n",
    "print (\"Desired conduit length (m):\")                              # Test value: 1000 m\n",
    "l = int(input())\n",
    "r = d / 2                                                          # Conduit diameter\n",
    "A = np.pi * r**2                                                   # Conduit area\n",
    "\n",
    "\n",
    "##### Flow computations\n",
    "for i in range(0,count):\n",
    "    if i==0:\n",
    "        dh[i] = dh_initial\n",
    "    else:\n",
    "        dh[i] = dh[i-1] * dh_growth + dh[i-1]\n",
    "    Q_lam[i] = np.pi * d ** 4 * g * dh[i] / (128 * k_viscos_w * l)   # Hagen- Poiseuille Equation\n",
    "    Q_turb[i] = np.sqrt(dh[i] * g * d ** 5 * np.pi ** 2 / (2 * l)) * np.log10 ((2.51 * k_viscos_w / np.sqrt (2 * dh[i] * g * d ** 3 / l)) + (rough / (3.71 * d)))* (-1) # Darcy-Weisbach Equation   \n",
    "\n",
    "##### Graph preparation\n",
    "D = {\"Hagen- Poiseuille\": Q_lam, \"Darcy-Weisbach\": Q_turb}\n",
    "df = pd.DataFrame(D) # Generating result table\n",
    "label = [\"Hagen- Poiseuille\", \"Darcy-Weisbach\"]\n",
    "fig = plt.figure(figsize=(9,6))\n",
    "plt.plot(dh, Q_lam, dh, Q_turb, linewidth=1);  # plotting the results\n",
    "plt.xscale('log')\n",
    "plt.yscale('log')\n",
    "plt.xlabel(\"Hydraulic gradient [-]\"); plt.ylabel(\"Discharge [m\\u00b3/s]\") # placing axis labels\n",
    "plt.legend(label, loc=0);plt.grid(); plt.xlim(); plt.ylim() # legends, grids, x,y limits\n",
    "plt.show() # display plot\n",
    "\n",
    "\n",
    "\n"
   ]
  },
  {
   "cell_type": "code",
   "execution_count": 10,
   "metadata": {},
   "outputs": [
    {
     "data": {
      "text/plain": [
       "(1000,)"
      ]
     },
     "execution_count": 10,
     "metadata": {},
     "output_type": "execute_result"
    }
   ],
   "source": []
  },
  {
   "cell_type": "code",
   "execution_count": null,
   "metadata": {},
   "outputs": [],
   "source": []
  }
 ],
 "metadata": {
  "kernelspec": {
   "display_name": "Python 3 (ipykernel)",
   "language": "python",
   "name": "python3"
  },
  "language_info": {
   "codemirror_mode": {
    "name": "ipython",
    "version": 3
   },
   "file_extension": ".py",
   "mimetype": "text/x-python",
   "name": "python",
   "nbconvert_exporter": "python",
   "pygments_lexer": "ipython3",
   "version": "3.8.5"
  },
  "toc": {
   "base_numbering": 1,
   "nav_menu": {},
   "number_sections": true,
   "sideBar": true,
   "skip_h1_title": false,
   "title_cell": "Table of Contents",
   "title_sidebar": "Contents",
   "toc_cell": false,
   "toc_position": {},
   "toc_section_display": true,
   "toc_window_display": false
  }
 },
 "nbformat": 4,
 "nbformat_minor": 2
}
