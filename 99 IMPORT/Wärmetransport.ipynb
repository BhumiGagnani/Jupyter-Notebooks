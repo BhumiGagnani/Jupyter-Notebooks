{
 "cells": [
  {
   "cell_type": "markdown",
   "metadata": {},
   "source": [
    "# Grundwasserbewirtschaftung mit Computermodellen - Wärmetransport\n",
    "Dieses Notebook erläutert die analytischen Berechnungen zum Wärmetransport in Untergrundsystemen"
   ]
  },
  {
   "cell_type": "markdown",
   "metadata": {},
   "source": [
    "Gleichungen\n",
    "\n",
    "$D_h=\\frac{n_e\\lambda_w+(1-n_e)\\lambda_s}{n_e c_w \\rho_w}$\n",
    "\n",
    "$K_{d,H}=\\frac{c_s}{c_w\\rho_w}$\n",
    "\n",
    "$R=1=\\frac{1-n}{n}\\rho_f K_d$\n",
    "\n",
    "1-D Konduktion ohne Retardation (d. h. ohne Wärmespeicherung)\n",
    "\n",
    "$T(x,t)=T_0 erfc (\\frac{x}{\\sqrt{4 D_h t}})$\n",
    "\n",
    "1-D Konduktion ohne Retardation (d. h. ohne Wärmespeicherung)\n",
    "\n",
    "$T(x,t)=T_0 erfc (\\frac{x}{\\sqrt{4 D_h \\frac{t}{R}}})$"
   ]
  },
  {
   "cell_type": "code",
   "execution_count": null,
   "metadata": {},
   "outputs": [],
   "source": [
    "# Initialize librarys\n",
    "from scipy.special import erfc, erf\n",
    "import matplotlib\n",
    "import matplotlib.pyplot as plt\n",
    "import numpy as np\n",
    "import math\n",
    "from ipywidgets import interact, fixed"
   ]
  },
  {
   "cell_type": "code",
   "execution_count": null,
   "metadata": {},
   "outputs": [],
   "source": [
    "# Define functions\n",
    "def D_Heat(n_e,lambda_w, lambda_s, c_w,rho_w):\n",
    "    D_H = (n_e*lambda_w+(1-n_e)*lambda_s)/(n_e*c_w*rho_w)\n",
    "    return D_H\n",
    "\n",
    "def COND1D(t_max,Tini,T0,x,n_e,lambda_w,lambda_s,c_w,rho_w):\n",
    "    t = np.arange(1, t_max,3600)\n",
    "    T=Tini+T0*erfc(x/(4*D_Heat(n_e,lambda_w, lambda_s, c_w, rho_w)*t)**0.5)\n",
    "    fig, ax = plt.subplots()\n",
    "    ax.plot(t,T)\n",
    "    ax.set(xlabel='time', ylabel='temperatur',title='Temperatur im Untergrund')\n",
    "    ax.grid()\n",
    "    plt.show()\n"
   ]
  },
  {
   "cell_type": "code",
   "execution_count": null,
   "metadata": {},
   "outputs": [],
   "source": [
    "t_max = 365*86400\n",
    "\n",
    "\n",
    "#x=1\n",
    "T0 = 3\n",
    "Tini = 8\n",
    "n_e = 0.25\n",
    "lambda_w = 0.598\n",
    "lambda_s = 0.35\n",
    "c_w = 4186\n",
    "c_s = 840\n",
    "rho_w = 1000\n",
    "\n",
    "interact(COND1D, t_max=fixed(t_max), Tini=fixed(Tini), T0=(1,15,1), x=(1,20,1), n_e=fixed(n_e),lambda_w=fixed(lambda_w), lambda_s=fixed(lambda_s), c_w=fixed(c_w),rho_w=fixed(rho_w));"
   ]
  },
  {
   "cell_type": "code",
   "execution_count": null,
   "metadata": {},
   "outputs": [],
   "source": []
  }
 ],
 "metadata": {
  "kernelspec": {
   "display_name": "Python 3",
   "language": "python",
   "name": "python3"
  },
  "language_info": {
   "codemirror_mode": {
    "name": "ipython",
    "version": 3
   },
   "file_extension": ".py",
   "mimetype": "text/x-python",
   "name": "python",
   "nbconvert_exporter": "python",
   "pygments_lexer": "ipython3",
   "version": "3.8.5"
  }
 },
 "nbformat": 4,
 "nbformat_minor": 2
}
